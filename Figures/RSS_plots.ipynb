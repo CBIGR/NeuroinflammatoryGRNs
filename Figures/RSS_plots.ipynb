{
 "cells": [
  {
   "cell_type": "markdown",
   "metadata": {},
   "source": [
    "## RSS and activity of regulons in control vs disease"
   ]
  },
  {
   "cell_type": "code",
   "execution_count": null,
   "metadata": {},
   "outputs": [],
   "source": [
    "import scanpy as sc\n",
    "import loompy as lp\n",
    "import scipy as sp\n",
    "import pandas as pd\n",
    "import matplotlib.pyplot as plt\n",
    "import random\n",
    "import numpy as np\n",
    "from math import sqrt, ceil, floor\n",
    "import seaborn as sns\n",
    "import glob\n",
    "import os\n",
    "import sys\n",
    "from datetime import datetime\n",
    "from scipy.stats import ttest_ind\n",
    "from scipy.spatial.distance import jensenshannon\n",
    "from sklearn.metrics import silhouette_score\n",
    "from sklearn.preprocessing import MaxAbsScaler\n",
    "from sklearn.preprocessing import StandardScaler\n",
    "import warnings\n",
    "\n",
    "sc.set_figure_params(figsize=(4,4))\n",
    "sc.set_figure_params(dpi=200)\n",
    "sc.settings.n_jobs = 1 #nCores/CPUs for scanpy\n",
    "\n",
    "# for white background of figures (only for docs rendering)\n",
    "%config InlineBackend.print_figure_kwargs={'facecolor' : \"w\"}\n",
    "%config InlineBackend.figure_format='retina'\n",
    "\n",
    "#hpc figures\n",
    "%matplotlib inline\n",
    "\n",
    "from IPython.core.interactiveshell import InteractiveShell\n",
    "InteractiveShell.ast_node_interactivity = \"all\" # print multiple outputs per code cell (not just last)"
   ]
  },
  {
   "cell_type": "code",
   "execution_count": null,
   "metadata": {},
   "outputs": [],
   "source": [
    "# Helper functions\n",
    "def regulon_specificity_scores(auc_mtx, cell_type_series):\n",
    "    \"\"\"\n",
    "    Calculates the Regulon Specificty Scores (RSS). [doi: 10.1016/j.celrep.2018.10.045]\n",
    "\n",
    "    :param auc_mtx: The dataframe with the AUC values for all cells and regulons (n_cells x n_regulons).\n",
    "    :param cell_type_series: A pandas Series object with cell identifiers as index and cell type labels as values.\n",
    "    :return: A pandas dataframe with the RSS values (cell type x regulon).\n",
    "    \"\"\"\n",
    "\n",
    "    cell_types = list(cell_type_series.unique())\n",
    "    n_types = len(cell_types)\n",
    "    regulons = list(auc_mtx.columns)\n",
    "    n_regulons = len(regulons)\n",
    "    rss_values = np.empty(shape=(n_types, n_regulons), dtype=np.float32)\n",
    "\n",
    "    def rss(aucs, labels):\n",
    "        # jensenshannon function provides distance which is the sqrt of the JS divergence.\n",
    "        return 1.0 - jensenshannon(aucs / aucs.sum(), labels / labels.sum())\n",
    "\n",
    "    for cidx, regulon_name in enumerate(regulons):\n",
    "        for ridx, cell_type in enumerate(cell_types):\n",
    "            rss_values[ridx, cidx] = rss(\n",
    "                auc_mtx[regulon_name], (cell_type_series == cell_type).astype(int)\n",
    "            )\n",
    "\n",
    "    return pd.DataFrame(data=rss_values, index=cell_types, columns=regulons)\n",
    "\n",
    "def plot_rss(rss, cell_type, top_n=5, max_n=None, ax=None):\n",
    "    if ax is None:\n",
    "        _, ax = plt.subplots(1, 1, figsize=(4, 4))\n",
    "    if max_n is None:\n",
    "        max_n = rss.shape[1]\n",
    "    data = rss.T[cell_type].sort_values(ascending=False)[0:max_n]\n",
    "    ax.plot(np.arange(len(data)), data, \".\")\n",
    "    ax.set_ylim([floor(data.min() * 100.0) / 100.0, ceil(data.max() * 100.0) / 100.0])\n",
    "    ax.set_ylabel(\"RSS\")\n",
    "    ax.set_xlabel(\"Regulon\")\n",
    "    ax.set_title(cell_type)\n",
    "    ax.set_xticklabels([])\n",
    "\n",
    "    font = {\n",
    "        \"color\": \"red\",\n",
    "        \"weight\": \"normal\",\n",
    "        \"size\": 6,\n",
    "    }\n",
    "\n",
    "    for idx, (regulon_name, rss_val) in enumerate(\n",
    "        zip(data[0:top_n].index, data[0:top_n].values)\n",
    "    ):\n",
    "        ax.plot([idx, idx], [rss_val, rss_val], \"r.\")\n",
    "        ax.text(\n",
    "            idx + (max_n / 25),\n",
    "            rss_val,\n",
    "            regulon_name,\n",
    "            fontdict=font,\n",
    "            horizontalalignment=\"left\",\n",
    "            verticalalignment=\"center\",\n",
    "        )\n",
    "# Create category representations in metacells\n",
    "\n",
    "def annotate_category(obs, metacells, column, n_cells, add_prefix) :\n",
    "    cat = list(obs[column].unique())\n",
    "\n",
    "    vals = {}\n",
    "\n",
    "    for i in cat: \n",
    "            vals[i] = []       \n",
    "\n",
    "    for i in metacells.uns['neighbor_dict'].keys(): \n",
    "        for j in cat :\n",
    "            vals[j].append(sum(obs[column][metacells.uns['neighbor_dict'][i]] == j) / n_cells)\n",
    "            \n",
    "    try :\n",
    "        sum(metacells.obs.index == list(metacells.uns['neighbor_dict'].keys())) == len(metacells.uns['neighbor_dict']) \n",
    "        \n",
    "        for i in vals :\n",
    "            metacells.obs[f'{add_prefix}_{i}'] = vals[i]\n",
    "    except : \n",
    "        print(\"Index of neighbor dictionary and obs do not match\")\n",
    "def celltype_frac(df, cells, col_name):\n",
    "    val_counts = df.loc[cells,col_name].value_counts()\n",
    "    return val_counts.values[0] / val_counts.values.sum()\n",
    "# select PCs with elbow locator\n",
    "\n",
    "def select_pcs_knee(adata, plot = False) : \n",
    "    x = np.array(adata.uns['pca']['variance_ratio'])\n",
    "    y = np.array(list(range(1,len(x) +1)))\n",
    "    \n",
    "    kneedle = KneeLocator(x, y, curve=\"convex\", direction=\"decreasing\")\n",
    "    if plot :\n",
    "        sc.pl.pca_variance_ratio(adata, n_pcs=len(x), show=False)\n",
    "        plt.axvline(x=kneedle.knee_y)\n",
    "        plt.show()\n",
    "    \n",
    "    return kneedle.knee_y + 1\n",
    "seed = 250\n",
    "def set_seed(seed=int): # Set seed\n",
    "    random.seed(seed)\n",
    "    np.random.seed(seed)\n",
    "    os.environ[\"PYTHONHASHSEED\"] = str(seed)\n",
    "    print('Seed set to', seed)\n",
    "\n",
    "set_seed(seed)"
   ]
  },
  {
   "cell_type": "code",
   "execution_count": 3,
   "metadata": {},
   "outputs": [],
   "source": [
    "work_dir = \"/scratch/gent/vo/000/gvo00027/projects/CBIGR/21HPP_GRN_neuroinfl/singlecell/SCENIC_rebuttal_VZZ/\""
   ]
  },
  {
   "cell_type": "markdown",
   "metadata": {},
   "source": [
    "### 1. Calculate RSS scores separately for disease and control"
   ]
  },
  {
   "cell_type": "markdown",
   "metadata": {},
   "source": [
    "#### AD"
   ]
  },
  {
   "cell_type": "code",
   "execution_count": null,
   "metadata": {},
   "outputs": [],
   "source": [
    "!ls -l /scratch/gent/vo/000/gvo00027/projects/CBIGR/21JDS_singlecell_GBM/SCENIC/SCENIC_vsn/scripts/HPU_SCENIC_thesis/counts_AD1/scenic/counts_AD1"
   ]
  },
  {
   "cell_type": "code",
   "execution_count": null,
   "metadata": {},
   "outputs": [],
   "source": [
    "# Import activities\n",
    "\n",
    "loom_ad = lp.connect(\"/scratch/gent/vo/000/gvo00027/projects/CBIGR/21JDS_singlecell_GBM/SCENIC/SCENIC_vsn/scripts/HPU_SCENIC_thesis/counts_AD1/scenic/counts_AD1/SCENIC_output.loom\" , mode='r', validate=False)\n",
    "auc_ad = pd.DataFrame(loom_ad.ca.MotifRegulonsAUC, index=loom_ad.ca.CellID)\n",
    "auc_ad.head()"
   ]
  },
  {
   "cell_type": "code",
   "execution_count": null,
   "metadata": {},
   "outputs": [],
   "source": [
    "# Metadata\n",
    "\n",
    "metadata_ad = pd.read_csv(\"/scratch/gent/vo/000/gvo00027/projects/CBIGR/21HPP_GRN_neuroinfl/singlecell/snRNA_metadta.csv\", index_col=0)\n",
    "metadata_ad.head()"
   ]
  },
  {
   "cell_type": "code",
   "execution_count": null,
   "metadata": {},
   "outputs": [],
   "source": [
    "# Unify cell names \n",
    "\n",
    "auc_ad.index = [i.replace(\".\", \"-\") for i in auc_ad.index.values]\n",
    "auc_ad.head()"
   ]
  },
  {
   "cell_type": "code",
   "execution_count": null,
   "metadata": {},
   "outputs": [],
   "source": [
    "# Subset to cell present in AUC matrix\n",
    "\n",
    "metadata_ad = metadata_ad.loc[auc_ad.index, :]\n",
    "metadata_ad.shape"
   ]
  },
  {
   "cell_type": "code",
   "execution_count": null,
   "metadata": {},
   "outputs": [],
   "source": [
    "# Subset for disease and control \n",
    "\n",
    "auc_ad_dis = auc_ad.loc[metadata_ad[\"Diagnosis\"] == \"AD\",].copy()\n",
    "auc_ad_ctrl = auc_ad.loc[metadata_ad[\"Diagnosis\"] == \"Control\",].copy()\n",
    "\n",
    "auc_ad_dis.shape\n",
    "auc_ad_ctrl.shape"
   ]
  },
  {
   "cell_type": "code",
   "execution_count": null,
   "metadata": {},
   "outputs": [],
   "source": [
    "# Calculate RSS\n",
    "\n",
    "rss_ad_dis = regulon_specificity_scores(auc_mtx=auc_ad_dis, cell_type_series=metadata_ad.loc[metadata_ad[\"Diagnosis\"] == \"AD\", \"celltype\"])\n",
    "rss_ad_dis"
   ]
  },
  {
   "cell_type": "code",
   "execution_count": 13,
   "metadata": {},
   "outputs": [],
   "source": [
    "crc_tfs = [\"IKZF1\", \"IRF8\", \"NFATC2\", \"MAF\", \"RUNX1\", \"TAL1\", \"SPI1\", \"MAFF\", \"STAT3\", \"MYC\", \"FOS\", \"JUNB\", \"CEBPD\", \"PLSCR1\"]"
   ]
  },
  {
   "cell_type": "code",
   "execution_count": null,
   "metadata": {},
   "outputs": [],
   "source": [
    "rss_ranks_ad_dis = rss_ad_dis.copy()\n",
    "\n",
    "for ct in rss_ranks_ad_dis.index :\n",
    "    rss_ranks_ad_dis.loc[ct] =  np.argsort(np.argsort(rss_ranks_ad_dis.loc[ct]))\n",
    "\n",
    "rss_ad_dis\n",
    "rss_ranks_ad_dis"
   ]
  },
  {
   "cell_type": "code",
   "execution_count": null,
   "metadata": {},
   "outputs": [],
   "source": [
    "rss_ranks_ad_dis.max(axis=1)\n",
    "rss_ranks_ad_dis.min(axis=1)"
   ]
  },
  {
   "cell_type": "code",
   "execution_count": null,
   "metadata": {},
   "outputs": [],
   "source": [
    "rss_ranks_ad_dis"
   ]
  },
  {
   "cell_type": "code",
   "execution_count": null,
   "metadata": {},
   "outputs": [],
   "source": [
    "rss_ranks_ad_dis.columns = [i.split(\"_\")[0] for i in rss_ranks_ad_dis.columns.values]\n",
    "rss_ranks_ad_dis = rss_ranks_ad_dis.loc[:,rss_ranks_ad_dis.columns.isin(crc_tfs)]\n",
    "rss_ranks_ad_dis"
   ]
  },
  {
   "cell_type": "code",
   "execution_count": null,
   "metadata": {},
   "outputs": [],
   "source": [
    "for i in metadata_ad.celltype.unique() :\n",
    "    plot_rss(rss_ad_dis, cell_type=i)"
   ]
  },
  {
   "cell_type": "code",
   "execution_count": null,
   "metadata": {},
   "outputs": [],
   "source": [
    "rss_ad_ctrl = regulon_specificity_scores(auc_mtx=auc_ad_ctrl, cell_type_series=metadata_ad.loc[metadata_ad[\"Diagnosis\"] == \"Control\", \"celltype\"])\n",
    "rss_ad_ctrl"
   ]
  },
  {
   "cell_type": "code",
   "execution_count": null,
   "metadata": {},
   "outputs": [],
   "source": [
    "rss_ranks_ad_ctrl = rss_ad_ctrl.copy()\n",
    "\n",
    "for ct in rss_ranks_ad_ctrl.index :\n",
    "    rss_ranks_ad_ctrl.loc[ct] =  np.argsort(np.argsort(rss_ranks_ad_ctrl.loc[ct]))\n",
    "\n",
    "rss_ad_ctrl\n",
    "rss_ranks_ad_ctrl"
   ]
  },
  {
   "cell_type": "code",
   "execution_count": null,
   "metadata": {},
   "outputs": [],
   "source": [
    "rss_ranks_ad_ctrl.max(axis=1)\n",
    "rss_ranks_ad_ctrl.min(axis=1)"
   ]
  },
  {
   "cell_type": "code",
   "execution_count": null,
   "metadata": {},
   "outputs": [],
   "source": [
    "rss_ranks_ad_ctrl"
   ]
  },
  {
   "cell_type": "code",
   "execution_count": null,
   "metadata": {},
   "outputs": [],
   "source": [
    "rss_ranks_ad_ctrl.columns = [i.split(\"_\")[0] for i in rss_ranks_ad_ctrl.columns.values]\n",
    "rss_ranks_ad_ctrl = rss_ranks_ad_ctrl.loc[:,rss_ranks_ad_ctrl.columns.isin(crc_tfs)]\n",
    "rss_ranks_ad_ctrl"
   ]
  },
  {
   "cell_type": "code",
   "execution_count": null,
   "metadata": {},
   "outputs": [],
   "source": [
    "for i in metadata_ad.celltype.unique() :\n",
    "    plot_rss(rss_ad_ctrl, cell_type=i)"
   ]
  },
  {
   "cell_type": "code",
   "execution_count": null,
   "metadata": {},
   "outputs": [],
   "source": [
    "rss_ranks_ad_ctrl.columns = [f\"{i}_ctrl\" for i in rss_ranks_ad_ctrl.columns.values]\n",
    "rss_ranks_ad_ctrl"
   ]
  },
  {
   "cell_type": "markdown",
   "metadata": {},
   "source": [
    "#### Create plots"
   ]
  },
  {
   "cell_type": "markdown",
   "metadata": {},
   "source": [
    "##### RSS rank change"
   ]
  },
  {
   "cell_type": "code",
   "execution_count": null,
   "metadata": {},
   "outputs": [],
   "source": [
    "rss_ranks_ad_dis.columns = [f\"{i}_dis\" for i in rss_ranks_ad_dis.columns.values]\n",
    "rss_ranks_ad_dis"
   ]
  },
  {
   "cell_type": "code",
   "execution_count": null,
   "metadata": {},
   "outputs": [],
   "source": [
    "rss_ranks_ad_comp = pd.concat([rss_ranks_ad_dis, rss_ranks_ad_ctrl], axis=1)\n",
    "# rss_ranks_ad_comp['celltype'] = rss_ranks_ad_comp.index\n",
    "rss_ranks_ad_comp"
   ]
  },
  {
   "cell_type": "code",
   "execution_count": null,
   "metadata": {},
   "outputs": [],
   "source": [
    "# Melt the DataFrame\n",
    "\n",
    "for ct in rss_ranks_ad_comp.index : \n",
    "\n",
    "    df_plot = pd.DataFrame(rss_ranks_ad_comp.loc[ct], columns=[ct]).T\n",
    "    df_plot = df_plot.melt(var_name=\"Variable_Condition\", value_name=\"Value\")\n",
    "    df_plot[['Variable', 'Condition']] = df_plot['Variable_Condition'].str.rsplit('_', n=1, expand=True)\n",
    "\n",
    "    # Plot\n",
    "    plt.figure(figsize=(2, 4))\n",
    "    sns.lineplot(\n",
    "        data=df_plot,\n",
    "        x=\"Condition\",\n",
    "        y=\"Value\",\n",
    "        hue=\"Variable\",\n",
    "        estimator=None,  # Show all data points without aggregation\n",
    "        markers=True,\n",
    "        style=\"Variable\",\n",
    "        dashes=False,\n",
    "        alpha=0.7\n",
    "    )\n",
    "    plt.title(f\"Change in RSS ranks in AD - {ct}\")\n",
    "\n",
    "    # Reverse axis\n",
    "    # plt.gca().invert_yaxis()\n",
    "    plt.gca().invert_xaxis()\n",
    "\n",
    "    plt.ylim(1,359)\n",
    "\n",
    "    # Move legend to the right\n",
    "    plt.legend(title=\"Regulon\", bbox_to_anchor=(1.05, 1), loc='upper left')\n",
    "    plt.grid(False)\n",
    "    plt.savefig(f\"scenic_postpr_heatmaps/RSSranks_CRCs_AD_{ct}.png\", bbox_inches=\"tight\")\n",
    "    plt.savefig(f\"scenic_postpr_heatmaps/RSSranks_CRCs_AD_{ct}.svg\", bbox_inches=\"tight\", format=\"svg\")\n",
    "    plt.savefig(f\"scenic_postpr_heatmaps/RSSranks_CRCs_AD_{ct}.pdf\", bbox_inches=\"tight\", format=\"pdf\")\n",
    "    plt.show()\n"
   ]
  },
  {
   "cell_type": "markdown",
   "metadata": {},
   "source": [
    "Different approach"
   ]
  },
  {
   "cell_type": "code",
   "execution_count": 17,
   "metadata": {},
   "outputs": [],
   "source": [
    "os.mkdir(\"RSS_CRC_Tables\")"
   ]
  },
  {
   "cell_type": "code",
   "execution_count": null,
   "metadata": {},
   "outputs": [],
   "source": [
    "for ct in metadata_ad.celltype.unique() :\n",
    "    \n",
    "    print(\"Calculating for\", ct)\n",
    "\n",
    "    rss = regulon_specificity_scores(auc_mtx=auc_ad.loc[metadata_ad[\"celltype\"] == ct, :], cell_type_series=metadata_ad.loc[metadata_ad[\"celltype\"] == ct, \"Diagnosis\"])\n",
    "    for cd in rss.index :\n",
    "        rss.loc[cd] =  np.argsort(np.argsort(rss.loc[cd]))\n",
    "\n",
    "    rss.columns = [i.split(\"_\")[0] for i in rss.columns.values]\n",
    "    rss = rss.loc[:, rss.columns.isin(crc_tfs)]\n",
    "    rss.T.to_csv(f\"RSS_CRC_Tables/RSS_CRC_AD_{ct}.csv\")\n",
    "\n",
    "    rss['condition'] = rss.index\n",
    "    rss_melt = pd.melt(rss, id_vars='condition')\n",
    "\n",
    "    # Plot\n",
    "    plt.figure(figsize=(2, 4))\n",
    "    sns.lineplot(\n",
    "        data=rss_melt,\n",
    "        x=\"condition\",\n",
    "        y=\"value\",\n",
    "        hue=\"variable\",\n",
    "        estimator=None,  # Show all data points without aggregation\n",
    "        markers=True,\n",
    "        style=\"variable\",\n",
    "        dashes=False,\n",
    "        alpha=0.7\n",
    "    )\n",
    "    plt.title(f\"Change in RSS ranks in AD - {ct}\")\n",
    "\n",
    "    # Reverse axis\n",
    "    # plt.gca().invert_yaxis()\n",
    "    plt.gca().invert_xaxis()\n",
    "\n",
    "    plt.ylim(1,359)\n",
    "\n",
    "    # Move legend to the right\n",
    "    plt.legend(title=\"Regulon\", bbox_to_anchor=(1.05, 1), loc='upper left')\n",
    "    plt.grid(False)\n",
    "    # plt.savefig(f\"scenic_postpr_heatmaps/RSSranks_setup2_CRCs_AD_{ct}.png\", bbox_inches=\"tight\")\n",
    "    # plt.savefig(f\"scenic_postpr_heatmaps/RSSranks_setup2_CRCs_AD_{ct}.svg\", bbox_inches=\"tight\", format=\"svg\")\n",
    "    # plt.savefig(f\"scenic_postpr_heatmaps/RSSranks_setup2_CRCs_AD_{ct}.pdf\", bbox_inches=\"tight\", format=\"pdf\")\n",
    "    plt.show()\n"
   ]
  },
  {
   "cell_type": "markdown",
   "metadata": {},
   "source": [
    "##### Dotheatmap"
   ]
  },
  {
   "cell_type": "markdown",
   "metadata": {},
   "source": [
    "Disease"
   ]
  },
  {
   "cell_type": "code",
   "execution_count": null,
   "metadata": {},
   "outputs": [],
   "source": [
    "for ct in rss_ad_dis.index :\n",
    "    rss_ad_dis.loc[ct] =  np.argsort(np.argsort(rss_ad_dis.loc[ct]))\n",
    "\n",
    "rss_ad_dis"
   ]
  },
  {
   "cell_type": "code",
   "execution_count": null,
   "metadata": {},
   "outputs": [],
   "source": [
    "rss_ad_dis.max(axis=1)\n",
    "rss_ad_dis.min(axis=1)"
   ]
  },
  {
   "cell_type": "code",
   "execution_count": null,
   "metadata": {},
   "outputs": [],
   "source": [
    "rss_ad_dis[\"celltype\"] = rss_ad_dis.index\n",
    "rss_ad_dis"
   ]
  },
  {
   "cell_type": "code",
   "execution_count": null,
   "metadata": {},
   "outputs": [],
   "source": [
    "# Order celltypes\n",
    "\n",
    "rss_ad_dis.sort_index(inplace=True)\n",
    "rss_ad_dis"
   ]
  },
  {
   "cell_type": "code",
   "execution_count": null,
   "metadata": {},
   "outputs": [],
   "source": [
    "rss_long = pd.melt(rss_ad_dis, id_vars=\"celltype\")\n",
    "rss_long.columns = [\"celltype\", \"Regulon\", \"RSS rank\"]\n",
    "rss_long"
   ]
  },
  {
   "cell_type": "code",
   "execution_count": null,
   "metadata": {},
   "outputs": [],
   "source": [
    "rss_long[\"Activity\"] = 0\n",
    "rss_long"
   ]
  },
  {
   "cell_type": "code",
   "execution_count": 425,
   "metadata": {},
   "outputs": [],
   "source": [
    "for reg in auc_ad_dis.columns : \n",
    "\n",
    "    for cs in rss_long.celltype.unique() : \n",
    "\n",
    "        mean_act = np.mean(auc_ad_dis.loc[metadata_ad.loc[metadata_ad[\"Diagnosis\"] == \"AD\",][\"celltype\"] == cs,reg])\n",
    "        rss_long.loc[(rss_long[\"Regulon\"] == reg) & (rss_long[\"celltype\"] == cs), \"Activity\"] = mean_act"
   ]
  },
  {
   "cell_type": "code",
   "execution_count": null,
   "metadata": {},
   "outputs": [],
   "source": [
    "rss_long"
   ]
  },
  {
   "cell_type": "code",
   "execution_count": null,
   "metadata": {},
   "outputs": [],
   "source": [
    "# Import expression data\n",
    "\n",
    "ad_mat_dis = sc.read_text(\"/scratch/gent/vo/000/gvo00027/projects/CBIGR/21HPP_GRN_neuroinfl/singlecell/counts_AD1.txt.gz\")\n",
    "\n",
    "# dimensions are in R format\n",
    "genes = ad_mat_dis.obs.index\n",
    "cells = ad_mat_dis.var.index\n",
    "\n",
    "cells = [i.replace(\".\", \"-\") for i in cells]\n",
    "\n",
    "adata_ad = sc.AnnData(ad_mat_dis.T)\n",
    "\n",
    "ad_mat_dis.obs.index = cells\n",
    "ad_mat_dis.var.index = genes\n",
    "\n",
    "ad_mat_dis"
   ]
  },
  {
   "cell_type": "code",
   "execution_count": null,
   "metadata": {},
   "outputs": [],
   "source": [
    "rss_long[\"Counts\"] = 0\n",
    "rss_long"
   ]
  },
  {
   "cell_type": "code",
   "execution_count": null,
   "metadata": {},
   "outputs": [],
   "source": [
    "exp_ad_dis = pd.DataFrame(ad_mat_dis.X.T, index=cells, columns=genes)\n",
    "exp_ad_dis"
   ]
  },
  {
   "cell_type": "code",
   "execution_count": 429,
   "metadata": {},
   "outputs": [],
   "source": [
    "for reg in rss_long.Regulon.unique() : \n",
    "    tf_name = reg.split(\"_\")[0]\n",
    "    for cs in rss_long.celltype.unique() : \n",
    "        if tf_name in genes :\n",
    "            avg_exp = np.mean(exp_ad_dis.loc[ metadata_ad.loc[(metadata_ad[\"Diagnosis\"] == \"AD\") & (metadata_ad[\"celltype\"] == cs)].index ][tf_name])\n",
    "        else :\n",
    "            # quick \"fix\" but check with Hanne\n",
    "            avg_exp = 0\n",
    "        rss_long.loc[(rss_long[\"Regulon\"] == reg) & (rss_long[\"celltype\"] == cs), \"Counts\"] = avg_exp"
   ]
  },
  {
   "cell_type": "code",
   "execution_count": null,
   "metadata": {},
   "outputs": [],
   "source": [
    "rss_long"
   ]
  },
  {
   "cell_type": "code",
   "execution_count": 431,
   "metadata": {},
   "outputs": [],
   "source": [
    "# Select 5 most active TFs in each cell state\n",
    "\n",
    "auc_top10 = []\n",
    "for cs in rss_long.celltype.unique() : \n",
    "    tmp = rss_long[rss_long[\"celltype\"] == cs].sort_values(by=\"Activity\", ascending=False)\n",
    "    auc_top10.extend(list(tmp[\"Regulon\"][:10].values))"
   ]
  },
  {
   "cell_type": "code",
   "execution_count": null,
   "metadata": {},
   "outputs": [],
   "source": [
    "len(auc_top10)\n",
    "len(set(auc_top10))"
   ]
  },
  {
   "cell_type": "code",
   "execution_count": 433,
   "metadata": {},
   "outputs": [],
   "source": [
    "# Make list unique while preserving order\n",
    "auc_top10 = list(dict.fromkeys(auc_top10))"
   ]
  },
  {
   "cell_type": "code",
   "execution_count": null,
   "metadata": {},
   "outputs": [],
   "source": [
    "rss_long= rss_long.loc[rss_long[\"Regulon\"].isin(auc_top10),:].copy()\n",
    "rss_long"
   ]
  },
  {
   "cell_type": "code",
   "execution_count": 435,
   "metadata": {},
   "outputs": [],
   "source": [
    "# Get unique categories for both axes\n",
    "unique_tf = rss_long['Regulon'].unique()\n",
    "unique_cs = rss_long['celltype'].unique()\n",
    "\n",
    "# Calculate the center positions of each tile\n",
    "tile_centers = [(i, j) for i in range(len(unique_tf)) for j in range(len(unique_cs))]"
   ]
  },
  {
   "cell_type": "code",
   "execution_count": null,
   "metadata": {},
   "outputs": [],
   "source": [
    "pivot_df = rss_long.pivot(index='celltype', columns='Regulon', values='Activity')\n",
    "pivot_df"
   ]
  },
  {
   "cell_type": "code",
   "execution_count": null,
   "metadata": {},
   "outputs": [],
   "source": [
    "pivot_df = pivot_df[auc_top10]\n",
    "pivot_df"
   ]
  },
  {
   "cell_type": "code",
   "execution_count": null,
   "metadata": {},
   "outputs": [],
   "source": [
    "pivot_df.columns = [reg.split(\"_\")[0] for reg in pivot_df.columns]\n",
    "pivot_df.head()"
   ]
  },
  {
   "cell_type": "code",
   "execution_count": null,
   "metadata": {},
   "outputs": [],
   "source": [
    "import matplotlib as mpl\n",
    "\n",
    "plt.figure(figsize=(15, 3), dpi=300)\n",
    "sns.heatmap(pivot_df, cmap='magma_r')\n",
    "\n",
    "cmap = mpl.colormaps.get_cmap('cividis')\n",
    "for i, (tf, cs) in enumerate(tile_centers):\n",
    "    size = rss_long.loc[(rss_long['Regulon'] == auc_top10[tf]) & (rss_long['celltype'] == unique_cs[cs]),'RSS rank'].values[0]\n",
    "    color_value = rss_long.loc[(rss_long['Regulon'] == auc_top10[tf]) & (rss_long['celltype'] == unique_cs[cs]),'Counts'].values[0]\n",
    "\n",
    "    color = cmap(color_value)\n",
    "    plt.scatter(tf + 0.5, cs + 0.5, s=size/2 , color=color)\n",
    "\n",
    "plt.xlabel('TF')\n",
    "plt.xticks([i+.5 for i in range(pivot_df.shape[1])], list(pivot_df.columns), fontsize=16, rotation=90)\n",
    "plt.ylabel('Celltype')\n",
    "plt.yticks([i+.5 for i in range(pivot_df.shape[0])], list(pivot_df.index), fontsize=16)\n",
    "plt.grid(False)\n",
    "plt.savefig(f\"scenic_postpr_heatmaps/Dotheatmap_AD_disease_TFsbyAUC.png\", bbox_inches=\"tight\")\n",
    "plt.savefig(f\"scenic_postpr_heatmaps/Dotheatmap_AD_disease_TFsbyAUC.svg\", bbox_inches=\"tight\", format=\"svg\")\n",
    "plt.savefig(f\"scenic_postpr_heatmaps/Dotheatmap_AD_disease_TFsbyAUC.pdf\", bbox_inches=\"tight\", format=\"pdf\")\n",
    "plt.show();"
   ]
  },
  {
   "cell_type": "code",
   "execution_count": null,
   "metadata": {},
   "outputs": [],
   "source": [
    "rss_long[\"Counts\"].max()"
   ]
  },
  {
   "cell_type": "code",
   "execution_count": null,
   "metadata": {},
   "outputs": [],
   "source": [
    "fig,ax = plt.subplots(figsize=(1,3), dpi=300)\n",
    "\n",
    "#adding colorbar\n",
    "norm = mpl.colors.Normalize(vmin=0, vmax=3)\n",
    "sm = plt.cm.ScalarMappable(cmap=cmap,norm=norm)\n",
    "sm.set_array([])\n",
    "cbar = fig.colorbar(sm,ax)\n",
    "for t in cbar.ax.get_yticklabels():\n",
    "    t.set_fontsize(15)\n",
    "    \n",
    "plt.title(\"TF expression\\n\", fontsize=20)\n",
    "plt.grid(False)\n",
    "plt.savefig(f\"scenic_postpr_heatmaps/Dotheatmap_AD_disease_TFsbyAUC_TFexp_Legend.png\", bbox_inches=\"tight\")\n",
    "plt.savefig(f\"scenic_postpr_heatmaps/Dotheatmap_AD_disease_TFsbyAUC_TFexp_Legend.svg\", bbox_inches=\"tight\", format=\"svg\")\n",
    "plt.savefig(f\"scenic_postpr_heatmaps/Dotheatmap_AD_disease_TFsbyAUC_TFexp_Legend.pdf\", bbox_inches=\"tight\", format=\"pdf\")\n",
    "plt.show();"
   ]
  },
  {
   "cell_type": "code",
   "execution_count": null,
   "metadata": {},
   "outputs": [],
   "source": [
    "numbers = [1, 2, 3, 4]\n",
    "val = np.round( np.quantile(rss_long[\"RSS rank\"].values, [.25, .5, .75, 1]), 0)\n",
    "sizes= val /2\n",
    "\n",
    "# Create a figure without any content\n",
    "fig = plt.figure(figsize=(1, 3), dpi=300)\n",
    "\n",
    "# Create an empty axis\n",
    "ax = fig.add_subplot(111)\n",
    "\n",
    "# Plot dots with invisible markers for creating legend\n",
    "for num, size, v in zip(numbers, sizes, val):\n",
    "    ax.scatter([], [], s=size, label=f'{v}', color='black')\n",
    "\n",
    "# Add legend\n",
    "ax.legend(title='RSS rank\\n', loc='center')\n",
    "\n",
    "# Hide axis\n",
    "ax.axis('off')\n",
    "plt.savefig(f\"scenic_postpr_heatmaps/Dotheatmap_AD_disease_TFsbyAUC_RSSrank_Legend.png\", bbox_inches=\"tight\")\n",
    "plt.savefig(f\"scenic_postpr_heatmaps/Dotheatmap_AD_disease_TFsbyAUC_RSSrank_Legend.svg\", bbox_inches=\"tight\", format=\"svg\")\n",
    "plt.savefig(f\"scenic_postpr_heatmaps/Dotheatmap_AD_disease_TFsbyAUC_RSSrank_Legend.pdf\", bbox_inches=\"tight\", format=\"pdf\")\n",
    "plt.show();"
   ]
  },
  {
   "cell_type": "markdown",
   "metadata": {},
   "source": [
    "Control - TODO"
   ]
  },
  {
   "cell_type": "code",
   "execution_count": null,
   "metadata": {},
   "outputs": [],
   "source": [
    "for ct in rss_ad_ctrl.index :\n",
    "    rss_ad_ctrl.loc[ct] =  np.argsort(np.argsort(rss_ad_ctrl.loc[ct]))\n",
    "\n",
    "rss_ad_ctrl"
   ]
  },
  {
   "cell_type": "code",
   "execution_count": null,
   "metadata": {},
   "outputs": [],
   "source": [
    "rss_ad_ctrl.max(axis=1)\n",
    "rss_ad_ctrl.min(axis=1)"
   ]
  },
  {
   "cell_type": "code",
   "execution_count": null,
   "metadata": {},
   "outputs": [],
   "source": [
    "rss_ad_ctrl.sort_index(inplace=True)\n",
    "rss_ad_ctrl"
   ]
  },
  {
   "cell_type": "code",
   "execution_count": null,
   "metadata": {},
   "outputs": [],
   "source": [
    "rss_ad_ctrl[\"celltype\"] = rss_ad_ctrl.index\n",
    "rss_ad_ctrl"
   ]
  },
  {
   "cell_type": "code",
   "execution_count": null,
   "metadata": {},
   "outputs": [],
   "source": [
    "rss_long = pd.melt(rss_ad_ctrl, id_vars=\"celltype\")\n",
    "rss_long.columns = [\"celltype\", \"Regulon\", \"RSS rank\"]\n",
    "rss_long"
   ]
  },
  {
   "cell_type": "code",
   "execution_count": null,
   "metadata": {},
   "outputs": [],
   "source": [
    "rss_long[\"Activity\"] = 0\n",
    "rss_long"
   ]
  },
  {
   "cell_type": "code",
   "execution_count": 346,
   "metadata": {},
   "outputs": [],
   "source": [
    "for reg in auc_ad_ctrl.columns : \n",
    "\n",
    "    for cs in rss_long.celltype.unique() : \n",
    "\n",
    "        mean_act = np.mean(auc_ad_ctrl.loc[metadata_ad.loc[metadata_ad[\"Diagnosis\"] == \"Control\",\"celltype\"] == cs,reg])\n",
    "        rss_long.loc[(rss_long[\"Regulon\"] == reg) & (rss_long[\"celltype\"] == cs), \"Activity\"] = mean_act"
   ]
  },
  {
   "cell_type": "code",
   "execution_count": null,
   "metadata": {},
   "outputs": [],
   "source": [
    "rss_long[\"Counts\"] = 0\n",
    "rss_long"
   ]
  },
  {
   "cell_type": "code",
   "execution_count": 348,
   "metadata": {},
   "outputs": [],
   "source": [
    "for reg in rss_long.Regulon.unique() : \n",
    "    tf_name = reg.split(\"_\")[0]\n",
    "    for cs in rss_long.celltype.unique() : \n",
    "        if tf_name in genes :\n",
    "            avg_exp = np.mean(exp_ad_dis.loc[ metadata_ad.loc[(metadata_ad[\"Diagnosis\"] == \"AD\") & (metadata_ad[\"celltype\"] == cs)].index ][tf_name])\n",
    "        else :\n",
    "            # quick \"fix\" but check with Hanne\n",
    "            avg_exp = 0\n",
    "        rss_long.loc[(rss_long[\"Regulon\"] == reg) & (rss_long[\"celltype\"] == cs), \"Counts\"] = avg_exp"
   ]
  },
  {
   "cell_type": "code",
   "execution_count": null,
   "metadata": {},
   "outputs": [],
   "source": [
    "rss_long"
   ]
  },
  {
   "cell_type": "code",
   "execution_count": 350,
   "metadata": {},
   "outputs": [],
   "source": [
    "# Select 10 most active TFs in each cell state\n",
    "\n",
    "auc_top10 = []\n",
    "for cs in rss_long.celltype.unique() : \n",
    "    tmp = rss_long[rss_long[\"celltype\"] == cs].sort_values(by=\"Activity\", ascending=False)\n",
    "    auc_top10.extend(list(tmp[\"Regulon\"][:10].values))"
   ]
  },
  {
   "cell_type": "code",
   "execution_count": null,
   "metadata": {},
   "outputs": [],
   "source": [
    "len(auc_top10)\n",
    "len(set(auc_top10))"
   ]
  },
  {
   "cell_type": "code",
   "execution_count": 352,
   "metadata": {},
   "outputs": [],
   "source": [
    "# Make list unique while preserving order\n",
    "auc_top10 = list(dict.fromkeys(auc_top10))"
   ]
  },
  {
   "cell_type": "code",
   "execution_count": null,
   "metadata": {},
   "outputs": [],
   "source": [
    "rss_long= rss_long.loc[rss_long[\"Regulon\"].isin(auc_top10),:].copy()\n",
    "rss_long"
   ]
  },
  {
   "cell_type": "code",
   "execution_count": 354,
   "metadata": {},
   "outputs": [],
   "source": [
    "# Get unique categories for both axes\n",
    "unique_tf = rss_long['Regulon'].unique()\n",
    "unique_cs = rss_long['celltype'].unique()\n",
    "\n",
    "# Calculate the center positions of each tile\n",
    "tile_centers = [(i, j) for i in range(len(unique_tf)) for j in range(len(unique_cs))]"
   ]
  },
  {
   "cell_type": "code",
   "execution_count": null,
   "metadata": {},
   "outputs": [],
   "source": [
    "pivot_df = rss_long.pivot(index='celltype', columns='Regulon', values='Activity')\n",
    "pivot_df"
   ]
  },
  {
   "cell_type": "code",
   "execution_count": null,
   "metadata": {},
   "outputs": [],
   "source": [
    "pivot_df = pivot_df[auc_top10]\n",
    "pivot_df"
   ]
  },
  {
   "cell_type": "code",
   "execution_count": null,
   "metadata": {},
   "outputs": [],
   "source": [
    "pivot_df.columns = [reg.split(\"_\")[0] for reg in pivot_df.columns]\n",
    "pivot_df.head()"
   ]
  },
  {
   "cell_type": "code",
   "execution_count": null,
   "metadata": {},
   "outputs": [],
   "source": [
    "import matplotlib as mpl\n",
    "\n",
    "plt.figure(figsize=(15, 3), dpi=300)\n",
    "sns.heatmap(pivot_df, cmap='magma_r')\n",
    "\n",
    "cmap = mpl.colormaps.get_cmap('cividis')\n",
    "for i, (tf, cs) in enumerate(tile_centers):\n",
    "    size = rss_long.loc[(rss_long['Regulon'] == auc_top10[tf]) & (rss_long['celltype'] == unique_cs[cs]),'RSS rank'].values[0]\n",
    "    color_value = rss_long.loc[(rss_long['Regulon'] == auc_top10[tf]) & (rss_long['celltype'] == unique_cs[cs]),'Counts'].values[0]\n",
    "\n",
    "    color = cmap(color_value)\n",
    "    plt.scatter(tf + 0.5, cs + 0.5, s=size/2 , color=color)\n",
    "\n",
    "plt.xlabel('TF')\n",
    "plt.xticks([i+.5 for i in range(pivot_df.shape[1])], list(pivot_df.columns), fontsize=16, rotation=90)\n",
    "plt.ylabel('Celltype')\n",
    "plt.yticks([i+.5 for i in range(pivot_df.shape[0])], list(pivot_df.index), fontsize=16)\n",
    "plt.grid(False)\n",
    "plt.savefig(f\"scenic_postpr_heatmaps/Dotheatmap_AD_control_TFsbyAUC.png\", bbox_inches=\"tight\")\n",
    "plt.savefig(f\"scenic_postpr_heatmaps/Dotheatmap_AD_control_TFsbyAUC.svg\", bbox_inches=\"tight\", format=\"svg\")\n",
    "plt.savefig(f\"scenic_postpr_heatmaps/Dotheatmap_AD_control_TFsbyAUC.pdf\", bbox_inches=\"tight\", format=\"pdf\")\n",
    "plt.show();"
   ]
  },
  {
   "cell_type": "code",
   "execution_count": null,
   "metadata": {},
   "outputs": [],
   "source": [
    "rss_long[\"Counts\"].max()"
   ]
  },
  {
   "cell_type": "code",
   "execution_count": null,
   "metadata": {},
   "outputs": [],
   "source": [
    "fig,ax = plt.subplots(figsize=(1,3), dpi=300)\n",
    "\n",
    "#adding colorbar\n",
    "norm = mpl.colors.Normalize(vmin=0, vmax=3)\n",
    "sm = plt.cm.ScalarMappable(cmap=cmap,norm=norm)\n",
    "sm.set_array([])\n",
    "cbar = fig.colorbar(sm,ax)\n",
    "for t in cbar.ax.get_yticklabels():\n",
    "    t.set_fontsize(15)\n",
    "    \n",
    "plt.title(\"TF expression\\n\", fontsize=20)\n",
    "plt.grid(False)\n",
    "plt.savefig(f\"scenic_postpr_heatmaps/Dotheatmap_AD_control_TFsbyAUC_TFexp_Legend.png\", bbox_inches=\"tight\")\n",
    "plt.savefig(f\"scenic_postpr_heatmaps/Dotheatmap_AD_control_TFsbyAUC_TFexp_Legend.svg\", bbox_inches=\"tight\", format=\"svg\")\n",
    "plt.savefig(f\"scenic_postpr_heatmaps/Dotheatmap_AD_control_TFsbyAUC_TFexp_Legend.pdf\", bbox_inches=\"tight\", format=\"pdf\")\n",
    "plt.show();"
   ]
  },
  {
   "cell_type": "code",
   "execution_count": null,
   "metadata": {},
   "outputs": [],
   "source": [
    "numbers = [1, 2, 3, 4]\n",
    "val = np.round( np.quantile(rss_long[\"RSS rank\"].values, [.25, .5, .75, 1]), 0)\n",
    "sizes= val /2\n",
    "\n",
    "# Create a figure without any content\n",
    "fig = plt.figure(figsize=(1, 3), dpi=300)\n",
    "\n",
    "# Create an empty axis\n",
    "ax = fig.add_subplot(111)\n",
    "\n",
    "# Plot dots with invisible markers for creating legend\n",
    "for num, size, v in zip(numbers, sizes, val):\n",
    "    ax.scatter([], [], s=size, label=f'{v}', color='black')\n",
    "\n",
    "# Add legend\n",
    "ax.legend(title='RSS rank\\n', loc='center')\n",
    "\n",
    "# Hide axis\n",
    "ax.axis('off')\n",
    "plt.savefig(f\"scenic_postpr_heatmaps/Dotheatmap_AD_control_TFsbyAUC_RSSrank_Legend.png\", bbox_inches=\"tight\")\n",
    "plt.savefig(f\"scenic_postpr_heatmaps/Dotheatmap_AD_control_TFsbyAUC_RSSrank_Legend.svg\", bbox_inches=\"tight\", format=\"svg\")\n",
    "plt.savefig(f\"scenic_postpr_heatmaps/Dotheatmap_AD_control_TFsbyAUC_RSSrank_Legend.pdf\", bbox_inches=\"tight\", format=\"pdf\")\n",
    "plt.show();"
   ]
  },
  {
   "cell_type": "markdown",
   "metadata": {},
   "source": [
    "### MDD"
   ]
  },
  {
   "cell_type": "code",
   "execution_count": null,
   "metadata": {},
   "outputs": [],
   "source": [
    "!ls -l /scratch/gent/vo/000/gvo00027/projects/CBIGR/21JDS_singlecell_GBM/SCENIC/SCENIC_vsn/scripts/HPU_SCENIC_thesis/counts_MDD/scenic/counts_MDD"
   ]
  },
  {
   "cell_type": "code",
   "execution_count": null,
   "metadata": {},
   "outputs": [],
   "source": [
    "# Import activities\n",
    "\n",
    "loom_mdd = lp.connect(\"/scratch/gent/vo/000/gvo00027/projects/CBIGR/21JDS_singlecell_GBM/SCENIC/SCENIC_vsn/scripts/HPU_SCENIC_thesis/counts_MDD/scenic/counts_MDD/SCENIC_output.loom\" , mode='r', validate=False)\n",
    "auc_mdd = pd.DataFrame(loom_mdd.ca.MotifRegulonsAUC, index=loom_mdd.ca.CellID)\n",
    "auc_mdd.head()"
   ]
  },
  {
   "cell_type": "code",
   "execution_count": null,
   "metadata": {},
   "outputs": [],
   "source": [
    "# Metadata\n",
    "\n",
    "metadata_mdd = pd.read_csv(\"/scratch/gent/vo/000/gvo00027/projects/CBIGR/21HPP_GRN_neuroinfl/singlecell/Metadata_MDD.txt\", index_col=0, sep=\"\\t\")\n",
    "metadata_mdd.head()"
   ]
  },
  {
   "cell_type": "code",
   "execution_count": null,
   "metadata": {},
   "outputs": [],
   "source": [
    "# Unify cell names \n",
    "\n",
    "auc_mdd.index = [i.replace(\"Micro.Macro\", \"Micro/Macro\") for i in auc_mdd.index.values]\n",
    "auc_mdd.head()"
   ]
  },
  {
   "cell_type": "code",
   "execution_count": null,
   "metadata": {},
   "outputs": [],
   "source": [
    "# Subset to cell present in AUC matrix\n",
    "\n",
    "metadata_mdd = metadata_mdd.loc[auc_mdd.index, :]\n",
    "metadata_mdd.shape"
   ]
  },
  {
   "cell_type": "code",
   "execution_count": null,
   "metadata": {},
   "outputs": [],
   "source": [
    "# Subset for disease and control \n",
    "\n",
    "auc_mdd_dis = auc_mdd.loc[metadata_mdd[\"Diagnosis\"] == \"Suicide\",].copy()\n",
    "auc_mdd_ctrl = auc_mdd.loc[metadata_mdd[\"Diagnosis\"] == \"Control\",].copy()\n",
    "\n",
    "auc_mdd_dis.shape\n",
    "auc_mdd_ctrl.shape"
   ]
  },
  {
   "cell_type": "code",
   "execution_count": null,
   "metadata": {},
   "outputs": [],
   "source": [
    "# Calculate RSS\n",
    "\n",
    "rss_mdd_dis = regulon_specificity_scores(auc_mtx=auc_mdd_dis, cell_type_series=metadata_mdd.loc[metadata_mdd[\"Diagnosis\"] == \"Suicide\", \"Celltype\"])\n",
    "rss_mdd_dis"
   ]
  },
  {
   "cell_type": "code",
   "execution_count": null,
   "metadata": {},
   "outputs": [],
   "source": [
    "rss_ranks_mdd_dis = rss_mdd_dis.copy()\n",
    "\n",
    "for ct in rss_ranks_mdd_dis.index :\n",
    "    rss_ranks_mdd_dis.loc[ct] =  np.argsort(np.argsort(rss_ranks_mdd_dis.loc[ct]))\n",
    "\n",
    "rss_mdd_dis\n",
    "rss_ranks_mdd_dis"
   ]
  },
  {
   "cell_type": "code",
   "execution_count": null,
   "metadata": {},
   "outputs": [],
   "source": [
    "rss_ranks_mdd_dis.max(axis=1)\n",
    "rss_ranks_mdd_dis.min(axis=1)"
   ]
  },
  {
   "cell_type": "code",
   "execution_count": null,
   "metadata": {},
   "outputs": [],
   "source": [
    "rss_ranks_mdd_dis.columns = [i.split(\"_\")[0] for i in rss_ranks_mdd_dis.columns.values]\n",
    "rss_ranks_mdd_dis = rss_ranks_mdd_dis.loc[:,rss_ranks_mdd_dis.columns.isin(crc_tfs)]\n",
    "rss_ranks_mdd_dis"
   ]
  },
  {
   "cell_type": "code",
   "execution_count": null,
   "metadata": {},
   "outputs": [],
   "source": [
    "for i in metadata_mdd.Celltype.unique() :\n",
    "    plot_rss(rss_mdd_dis, cell_type=i)"
   ]
  },
  {
   "cell_type": "code",
   "execution_count": null,
   "metadata": {},
   "outputs": [],
   "source": [
    "rss_mdd_ctrl = regulon_specificity_scores(auc_mtx=auc_mdd_ctrl, cell_type_series=metadata_mdd.loc[metadata_mdd[\"Diagnosis\"] == \"Control\", \"Celltype\"])\n",
    "rss_mdd_ctrl"
   ]
  },
  {
   "cell_type": "code",
   "execution_count": null,
   "metadata": {},
   "outputs": [],
   "source": [
    "rss_ranks_mdd_ctrl = rss_mdd_ctrl.copy()\n",
    "\n",
    "for ct in rss_ranks_mdd_ctrl.index :\n",
    "    rss_ranks_mdd_ctrl.loc[ct] =  np.argsort(np.argsort(rss_ranks_mdd_ctrl.loc[ct]))\n",
    "\n",
    "rss_mdd_ctrl\n",
    "rss_ranks_mdd_ctrl"
   ]
  },
  {
   "cell_type": "code",
   "execution_count": null,
   "metadata": {},
   "outputs": [],
   "source": [
    "rss_ranks_mdd_ctrl.max(axis=1)\n",
    "rss_ranks_mdd_ctrl.min(axis=1)"
   ]
  },
  {
   "cell_type": "code",
   "execution_count": null,
   "metadata": {},
   "outputs": [],
   "source": [
    "rss_ranks_mdd_ctrl.columns = [i.split(\"_\")[0] for i in rss_ranks_mdd_ctrl.columns.values]\n",
    "rss_ranks_mdd_ctrl = rss_ranks_mdd_ctrl.loc[:,rss_ranks_mdd_ctrl.columns.isin(crc_tfs)]\n",
    "rss_ranks_mdd_ctrl"
   ]
  },
  {
   "cell_type": "code",
   "execution_count": null,
   "metadata": {},
   "outputs": [],
   "source": [
    "for i in metadata_mdd.Celltype.unique() :\n",
    "    plot_rss(rss_mdd_ctrl, cell_type=i)"
   ]
  },
  {
   "cell_type": "code",
   "execution_count": null,
   "metadata": {},
   "outputs": [],
   "source": [
    "rss_ranks_mdd_ctrl.columns = [f\"{i}_ctrl\" for i in rss_ranks_mdd_ctrl.columns.values]\n",
    "rss_ranks_mdd_ctrl"
   ]
  },
  {
   "cell_type": "markdown",
   "metadata": {},
   "source": [
    "#### Create plots"
   ]
  },
  {
   "cell_type": "markdown",
   "metadata": {},
   "source": [
    "##### RSS rank change"
   ]
  },
  {
   "cell_type": "code",
   "execution_count": null,
   "metadata": {},
   "outputs": [],
   "source": [
    "rss_ranks_mdd_dis.columns = [f\"{i}_dis\" for i in rss_ranks_mdd_dis.columns.values]\n",
    "rss_ranks_mdd_dis"
   ]
  },
  {
   "cell_type": "code",
   "execution_count": null,
   "metadata": {},
   "outputs": [],
   "source": [
    "rss_ranks_mdd_comp = pd.concat([rss_ranks_mdd_dis, rss_ranks_mdd_ctrl], axis=1)\n",
    "rss_ranks_mdd_comp"
   ]
  },
  {
   "cell_type": "code",
   "execution_count": null,
   "metadata": {},
   "outputs": [],
   "source": [
    "# Plot change in RSS rank \n",
    "\n",
    "for ct in rss_ranks_mdd_comp.index : \n",
    "\n",
    "    df_plot = pd.DataFrame(rss_ranks_mdd_comp.loc[ct], columns=[ct]).T\n",
    "    df_plot = df_plot.melt(var_name=\"Variable_Condition\", value_name=\"Value\")\n",
    "    df_plot[['Variable', 'Condition']] = df_plot['Variable_Condition'].str.rsplit('_', n=1, expand=True)\n",
    "\n",
    "    # Plot\n",
    "    plt.figure(figsize=(2, 4))\n",
    "    sns.lineplot(\n",
    "        data=df_plot,\n",
    "        x=\"Condition\",\n",
    "        y=\"Value\",\n",
    "        hue=\"Variable\",\n",
    "        estimator=None,  # Show all data points without aggregation\n",
    "        markers=True,\n",
    "        style=\"Variable\",\n",
    "        dashes=False,\n",
    "        alpha=0.7\n",
    "    )\n",
    "    plt.title(f\"Change in RSS ranks in MDD - {ct}\")\n",
    "\n",
    "    # Reverse axis\n",
    "    # plt.gca().invert_yaxis()\n",
    "    plt.gca().invert_xaxis()\n",
    "\n",
    "\n",
    "    plt.ylim(1,265)\n",
    "    # Move legend to the right\n",
    "    plt.legend(title=\"Regulon\", bbox_to_anchor=(1.05, 1), loc='upper left')\n",
    "    plt.grid(False)\n",
    "    plt.savefig(f\"scenic_postpr_heatmaps/RSSranks_CRCs_MDD_{ct}.png\", bbox_inches=\"tight\")\n",
    "    plt.savefig(f\"scenic_postpr_heatmaps/RSSranks_CRCs_MDD_{ct}.svg\", bbox_inches=\"tight\", format=\"svg\")\n",
    "    plt.savefig(f\"scenic_postpr_heatmaps/RSSranks_CRCs_MDD_{ct}.pdf\", bbox_inches=\"tight\", format=\"pdf\")\n",
    "    plt.show()\n"
   ]
  },
  {
   "cell_type": "markdown",
   "metadata": {},
   "source": [
    "Different approach"
   ]
  },
  {
   "cell_type": "code",
   "execution_count": null,
   "metadata": {},
   "outputs": [],
   "source": [
    "for ct in metadata_mdd.Celltype.unique() :\n",
    "    \n",
    "    print(\"Calculating for\", ct)\n",
    "\n",
    "    rss = regulon_specificity_scores(auc_mtx=auc_mdd.loc[metadata_mdd[\"Celltype\"] == ct, :], cell_type_series=metadata_mdd.loc[metadata_mdd[\"Celltype\"] == ct, \"Diagnosis\"])\n",
    "    for cd in rss.index :\n",
    "        rss.loc[cd] =  np.argsort(np.argsort(rss.loc[cd]))\n",
    "\n",
    "    rss.columns = [i.split(\"_\")[0] for i in rss.columns.values]\n",
    "    rss = rss.loc[:, rss.columns.isin(crc_tfs)]\n",
    "    rss.T.to_csv(f\"RSS_CRC_Tables/RSS_CRC_MDD_{ct}.csv\")\n",
    "\n",
    "    rss['condition'] = rss.index\n",
    "    rss_melt = pd.melt(rss, id_vars='condition')\n",
    "\n",
    "    # Plot\n",
    "    plt.figure(figsize=(2, 4))\n",
    "    sns.lineplot(\n",
    "        data=rss_melt,\n",
    "        x=\"condition\",\n",
    "        y=\"value\",\n",
    "        hue=\"variable\",\n",
    "        estimator=None,  # Show all data points without aggregation\n",
    "        markers=True,\n",
    "        style=\"variable\",\n",
    "        dashes=False,\n",
    "        alpha=0.7\n",
    "    )\n",
    "    plt.title(f\"Change in RSS ranks in MDD - {ct}\")\n",
    "\n",
    "    # Reverse axis\n",
    "    # plt.gca().invert_yaxis()\n",
    "    # plt.gca().invert_xaxis()\n",
    "\n",
    "    plt.ylim(1,359)\n",
    "\n",
    "    # Move legend to the right\n",
    "    plt.legend(title=\"Regulon\", bbox_to_anchor=(1.05, 1), loc='upper left')\n",
    "    plt.grid(False)\n",
    "    # plt.savefig(f\"scenic_postpr_heatmaps/RSSranks_setup2_CRCs_MDD_{ct}.png\", bbox_inches=\"tight\")\n",
    "    # plt.savefig(f\"scenic_postpr_heatmaps/RSSranks_setup2_CRCs_MDD_{ct}.svg\", bbox_inches=\"tight\", format=\"svg\")\n",
    "    # plt.savefig(f\"scenic_postpr_heatmaps/RSSranks_setup2_CRCs_MDD_{ct}.pdf\", bbox_inches=\"tight\", format=\"pdf\")\n",
    "    plt.show()"
   ]
  },
  {
   "cell_type": "code",
   "execution_count": null,
   "metadata": {},
   "outputs": [],
   "source": [
    "rss"
   ]
  },
  {
   "cell_type": "code",
   "execution_count": null,
   "metadata": {},
   "outputs": [],
   "source": []
  },
  {
   "cell_type": "markdown",
   "metadata": {},
   "source": [
    "##### Dotheatmap"
   ]
  },
  {
   "cell_type": "markdown",
   "metadata": {},
   "source": [
    "Disease"
   ]
  },
  {
   "cell_type": "code",
   "execution_count": null,
   "metadata": {},
   "outputs": [],
   "source": [
    "for ct in rss_mdd_dis.index :\n",
    "    rss_mdd_dis.loc[ct] =  np.argsort(np.argsort(rss_mdd_dis.loc[ct]))\n",
    "\n",
    "rss_mdd_dis"
   ]
  },
  {
   "cell_type": "code",
   "execution_count": null,
   "metadata": {},
   "outputs": [],
   "source": [
    "rss_mdd_dis.max(axis=1)\n",
    "rss_mdd_dis.min(axis=1)"
   ]
  },
  {
   "cell_type": "code",
   "execution_count": null,
   "metadata": {},
   "outputs": [],
   "source": [
    "rss_mdd_dis[\"celltype\"] = rss_mdd_dis.index\n",
    "rss_mdd_dis"
   ]
  },
  {
   "cell_type": "code",
   "execution_count": null,
   "metadata": {},
   "outputs": [],
   "source": [
    "# Oder celltypes\n",
    "\n",
    "rss_mdd_dis.sort_index(inplace=True)\n",
    "rss_mdd_dis"
   ]
  },
  {
   "cell_type": "code",
   "execution_count": null,
   "metadata": {},
   "outputs": [],
   "source": [
    "rss_long = pd.melt(rss_mdd_dis, id_vars=\"celltype\")\n",
    "rss_long.columns = [\"celltype\", \"Regulon\", \"RSS rank\"]\n",
    "rss_long"
   ]
  },
  {
   "cell_type": "code",
   "execution_count": null,
   "metadata": {},
   "outputs": [],
   "source": [
    "rss_long[\"Activity\"] = 0\n",
    "rss_long"
   ]
  },
  {
   "cell_type": "code",
   "execution_count": 377,
   "metadata": {},
   "outputs": [],
   "source": [
    "for reg in auc_mdd_dis.columns : \n",
    "\n",
    "    for cs in rss_long.celltype.unique() : \n",
    "\n",
    "        mean_act = np.mean(auc_mdd_dis.loc[metadata_mdd.loc[metadata_mdd[\"Diagnosis\"] == \"Suicide\",\"Celltype\"] == cs,reg])\n",
    "        rss_long.loc[(rss_long[\"Regulon\"] == reg) & (rss_long[\"celltype\"] == cs), \"Activity\"] = mean_act"
   ]
  },
  {
   "cell_type": "code",
   "execution_count": null,
   "metadata": {},
   "outputs": [],
   "source": [
    "rss_long"
   ]
  },
  {
   "cell_type": "code",
   "execution_count": null,
   "metadata": {},
   "outputs": [],
   "source": [
    "# Import expression data\n",
    "\n",
    "mdd_mat_dis = sc.read_text(\"/scratch/gent/vo/000/gvo00027/projects/CBIGR/21HPP_GRN_neuroinfl/singlecell/counts_MDD.txt.gz\")\n",
    "\n",
    "# dimensions are in R format\n",
    "genes = mdd_mat_dis.obs.index\n",
    "cells = mdd_mat_dis.var.index\n",
    "\n",
    "cells = [i.replace(\"Micro.Macro\", \"Micro/Macro\") for i in cells]\n",
    "\n",
    "adata_mdd = sc.AnnData(mdd_mat_dis.T)\n",
    "\n",
    "mdd_mat_dis.obs.index = cells\n",
    "mdd_mat_dis.var.index = genes\n",
    "\n",
    "mdd_mat_dis"
   ]
  },
  {
   "cell_type": "code",
   "execution_count": null,
   "metadata": {},
   "outputs": [],
   "source": [
    "rss_long[\"Counts\"] = 0\n",
    "rss_long"
   ]
  },
  {
   "cell_type": "code",
   "execution_count": null,
   "metadata": {},
   "outputs": [],
   "source": [
    "exp_mdd_dis = pd.DataFrame(mdd_mat_dis.X.T, index=cells, columns=genes)\n",
    "exp_mdd_dis"
   ]
  },
  {
   "cell_type": "code",
   "execution_count": 380,
   "metadata": {},
   "outputs": [],
   "source": [
    "for reg in rss_long.Regulon.unique() : \n",
    "    tf_name = reg.split(\"_\")[0]\n",
    "    for cs in rss_long.celltype.unique() : \n",
    "        if tf_name in genes :\n",
    "            avg_exp = np.mean(exp_mdd_dis.loc[ metadata_mdd.loc[(metadata_mdd[\"Diagnosis\"] == \"Suicide\") & (metadata_mdd[\"Celltype\"] == cs)].index ][tf_name])\n",
    "        else :\n",
    "            \n",
    "            # quick \"fix\" but check with Hanne\n",
    "            avg_exp = 0\n",
    "        rss_long.loc[(rss_long[\"Regulon\"] == reg) & (rss_long[\"celltype\"] == cs), \"Counts\"] = avg_exp"
   ]
  },
  {
   "cell_type": "code",
   "execution_count": null,
   "metadata": {},
   "outputs": [],
   "source": [
    "rss_long"
   ]
  },
  {
   "cell_type": "code",
   "execution_count": 382,
   "metadata": {},
   "outputs": [],
   "source": [
    "# Select 10 most active TFs in each cell state\n",
    "\n",
    "auc_top10 = []\n",
    "for cs in rss_long.celltype.unique() : \n",
    "    tmp = rss_long[rss_long[\"celltype\"] == cs].sort_values(by=\"Activity\", ascending=False)\n",
    "    auc_top10.extend(list(tmp[\"Regulon\"][:10].values))"
   ]
  },
  {
   "cell_type": "code",
   "execution_count": null,
   "metadata": {},
   "outputs": [],
   "source": [
    "len(auc_top10)\n",
    "len(set(auc_top10))"
   ]
  },
  {
   "cell_type": "code",
   "execution_count": 384,
   "metadata": {},
   "outputs": [],
   "source": [
    "# Make list unique while preserving order\n",
    "auc_top10 = list(dict.fromkeys(auc_top10))"
   ]
  },
  {
   "cell_type": "code",
   "execution_count": null,
   "metadata": {},
   "outputs": [],
   "source": [
    "rss_long= rss_long.loc[rss_long[\"Regulon\"].isin(auc_top10),:].copy()\n",
    "rss_long"
   ]
  },
  {
   "cell_type": "code",
   "execution_count": 386,
   "metadata": {},
   "outputs": [],
   "source": [
    "# Get unique categories for both axes\n",
    "unique_tf = rss_long['Regulon'].unique()\n",
    "unique_cs = rss_long['celltype'].unique()\n",
    "\n",
    "# Calculate the center positions of each tile\n",
    "tile_centers = [(i, j) for i in range(len(unique_tf)) for j in range(len(unique_cs))]"
   ]
  },
  {
   "cell_type": "code",
   "execution_count": null,
   "metadata": {},
   "outputs": [],
   "source": [
    "pivot_df = rss_long.pivot(index='celltype', columns='Regulon', values='Activity')\n",
    "pivot_df"
   ]
  },
  {
   "cell_type": "code",
   "execution_count": null,
   "metadata": {},
   "outputs": [],
   "source": [
    "pivot_df = pivot_df[auc_top10]\n",
    "pivot_df"
   ]
  },
  {
   "cell_type": "code",
   "execution_count": null,
   "metadata": {},
   "outputs": [],
   "source": [
    "pivot_df.columns = [reg.split(\"_\")[0] for reg in pivot_df.columns]\n",
    "pivot_df.head()"
   ]
  },
  {
   "cell_type": "code",
   "execution_count": 391,
   "metadata": {},
   "outputs": [],
   "source": [
    "# Cap expression at 2\n",
    "\n",
    "rss_long.loc[rss_long[\"Counts\"] > 2, \"Counts\"] = 2"
   ]
  },
  {
   "cell_type": "code",
   "execution_count": null,
   "metadata": {},
   "outputs": [],
   "source": [
    "import matplotlib as mpl\n",
    "\n",
    "plt.figure(figsize=(15, 3), dpi=300)\n",
    "sns.heatmap(pivot_df, cmap='magma_r')\n",
    "\n",
    "cmap = mpl.colormaps.get_cmap('cividis')\n",
    "for i, (tf, cs) in enumerate(tile_centers):\n",
    "    size = rss_long.loc[(rss_long['Regulon'] == auc_top10[tf]) & (rss_long['celltype'] == unique_cs[cs]),'RSS rank'].values[0]\n",
    "    color_value = rss_long.loc[(rss_long['Regulon'] == auc_top10[tf]) & (rss_long['celltype'] == unique_cs[cs]),'Counts'].values[0]\n",
    "\n",
    "    color = cmap(color_value)\n",
    "    plt.scatter(tf + 0.5, cs + 0.5, s=size/2 , color=color)\n",
    "\n",
    "plt.xlabel('TF')\n",
    "plt.xticks([i+.5 for i in range(pivot_df.shape[1])], list(pivot_df.columns), fontsize=16, rotation=90)\n",
    "plt.ylabel('Celltype')\n",
    "plt.yticks([i+.5 for i in range(pivot_df.shape[0])], list(pivot_df.index), fontsize=16)\n",
    "plt.grid(False)\n",
    "plt.savefig(f\"scenic_postpr_heatmaps/Dotheatmap_MDD_disease_TFsbyAUC.png\", bbox_inches=\"tight\")\n",
    "plt.savefig(f\"scenic_postpr_heatmaps/Dotheatmap_MDD_disease_TFsbyAUC.svg\", bbox_inches=\"tight\", format=\"svg\")\n",
    "plt.savefig(f\"scenic_postpr_heatmaps/Dotheatmap_MDD_disease_TFsbyAUC.pdf\", bbox_inches=\"tight\", format=\"pdf\")\n",
    "plt.show();"
   ]
  },
  {
   "cell_type": "code",
   "execution_count": null,
   "metadata": {},
   "outputs": [],
   "source": [
    "rss_long[\"Counts\"].max()"
   ]
  },
  {
   "cell_type": "code",
   "execution_count": null,
   "metadata": {},
   "outputs": [],
   "source": [
    "fig,ax = plt.subplots(figsize=(1,3), dpi=300)\n",
    "\n",
    "#adding colorbar\n",
    "norm = mpl.colors.Normalize(vmin=0, vmax=2)\n",
    "sm = plt.cm.ScalarMappable(cmap=cmap,norm=norm)\n",
    "sm.set_array([])\n",
    "cbar = fig.colorbar(sm,ax)\n",
    "for t in cbar.ax.get_yticklabels():\n",
    "    t.set_fontsize(15)\n",
    "    \n",
    "plt.title(\"TF expression\\n\", fontsize=20)\n",
    "plt.grid(False)\n",
    "plt.savefig(f\"scenic_postpr_heatmaps/Dotheatmap_MDD_disease_TFsbyAUC_TFexp_Legend.png\", bbox_inches=\"tight\")\n",
    "plt.savefig(f\"scenic_postpr_heatmaps/Dotheatmap_MDD_disease_TFsbyAUC_TFexp_Legend.svg\", bbox_inches=\"tight\", format=\"svg\")\n",
    "plt.savefig(f\"scenic_postpr_heatmaps/Dotheatmap_MDD_disease_TFsbyAUC_TFexp_Legend.pdf\", bbox_inches=\"tight\", format=\"pdf\")\n",
    "plt.show();"
   ]
  },
  {
   "cell_type": "code",
   "execution_count": null,
   "metadata": {},
   "outputs": [],
   "source": [
    "numbers = [1, 2, 3, 4]\n",
    "val = np.round( np.quantile(rss_long[\"RSS rank\"].values, [.25, .5, .75, 1]), 0)\n",
    "sizes= val /2\n",
    "\n",
    "# Create a figure without any content\n",
    "fig = plt.figure(figsize=(1, 3), dpi=300)\n",
    "\n",
    "# Create an empty axis\n",
    "ax = fig.add_subplot(111)\n",
    "\n",
    "# Plot dots with invisible markers for creating legend\n",
    "for num, size, v in zip(numbers, sizes, val):\n",
    "    ax.scatter([], [], s=size, label=f'{v}', color='black')\n",
    "\n",
    "# Add legend\n",
    "ax.legend(title='RSS rank\\n', loc='center')\n",
    "\n",
    "# Hide axis\n",
    "ax.axis('off')\n",
    "plt.savefig(f\"scenic_postpr_heatmaps/Dotheatmap_MDD_disease_TFsbyAUC_RSSrank_Legend.png\", bbox_inches=\"tight\")\n",
    "plt.savefig(f\"scenic_postpr_heatmaps/Dotheatmap_MDD_disease_TFsbyAUC_RSSrank_Legend.svg\", bbox_inches=\"tight\", format=\"svg\")\n",
    "plt.savefig(f\"scenic_postpr_heatmaps/Dotheatmap_MDD_disease_TFsbyAUC_RSSrank_Legend.pdf\", bbox_inches=\"tight\", format=\"pdf\")\n",
    "plt.show();"
   ]
  },
  {
   "cell_type": "markdown",
   "metadata": {},
   "source": [
    "Control"
   ]
  },
  {
   "cell_type": "code",
   "execution_count": null,
   "metadata": {},
   "outputs": [],
   "source": [
    "for ct in rss_mdd_ctrl.index :\n",
    "    rss_mdd_ctrl.loc[ct] =  np.argsort(np.argsort(rss_mdd_ctrl.loc[ct]))\n",
    "\n",
    "rss_mdd_ctrl"
   ]
  },
  {
   "cell_type": "code",
   "execution_count": null,
   "metadata": {},
   "outputs": [],
   "source": [
    "rss_mdd_ctrl.max(axis=1)\n",
    "rss_mdd_ctrl.min(axis=1)"
   ]
  },
  {
   "cell_type": "code",
   "execution_count": null,
   "metadata": {},
   "outputs": [],
   "source": [
    "rss_mdd_ctrl[\"celltype\"] = rss_mdd_ctrl.index\n",
    "rss_mdd_ctrl"
   ]
  },
  {
   "cell_type": "code",
   "execution_count": null,
   "metadata": {},
   "outputs": [],
   "source": [
    "# Oder celltypes\n",
    "\n",
    "rss_mdd_ctrl.sort_index(inplace=True)\n",
    "rss_mdd_ctrl"
   ]
  },
  {
   "cell_type": "code",
   "execution_count": null,
   "metadata": {},
   "outputs": [],
   "source": [
    "rss_long = pd.melt(rss_mdd_ctrl, id_vars=\"celltype\")\n",
    "rss_long.columns = [\"celltype\", \"Regulon\", \"RSS rank\"]\n",
    "rss_long"
   ]
  },
  {
   "cell_type": "code",
   "execution_count": null,
   "metadata": {},
   "outputs": [],
   "source": [
    "rss_long[\"Activity\"] = 0\n",
    "rss_long"
   ]
  },
  {
   "cell_type": "code",
   "execution_count": 401,
   "metadata": {},
   "outputs": [],
   "source": [
    "for reg in auc_mdd_ctrl.columns : \n",
    "\n",
    "    for cs in rss_long.celltype.unique() : \n",
    "\n",
    "        mean_act = np.mean(auc_mdd_ctrl.loc[metadata_mdd.loc[metadata_mdd[\"Diagnosis\"] == \"Control\",\"Celltype\"] == cs,reg])\n",
    "        rss_long.loc[(rss_long[\"Regulon\"] == reg) & (rss_long[\"celltype\"] == cs), \"Activity\"] = mean_act"
   ]
  },
  {
   "cell_type": "code",
   "execution_count": null,
   "metadata": {},
   "outputs": [],
   "source": [
    "rss_long"
   ]
  },
  {
   "cell_type": "code",
   "execution_count": null,
   "metadata": {},
   "outputs": [],
   "source": [
    "rss_long[\"Counts\"] = 0\n",
    "rss_long"
   ]
  },
  {
   "cell_type": "code",
   "execution_count": 404,
   "metadata": {},
   "outputs": [],
   "source": [
    "for reg in rss_long.Regulon.unique() : \n",
    "    tf_name = reg.split(\"_\")[0]\n",
    "    for cs in rss_long.celltype.unique() : \n",
    "        if tf_name in genes :\n",
    "            avg_exp = np.mean(exp_mdd_dis.loc[ metadata_mdd.loc[(metadata_mdd[\"Diagnosis\"] == \"Control\") & (metadata_mdd[\"Celltype\"] == cs)].index ][tf_name])\n",
    "        else :\n",
    "            \n",
    "            # quick \"fix\" but check with Hanne\n",
    "            avg_exp = 0\n",
    "        rss_long.loc[(rss_long[\"Regulon\"] == reg) & (rss_long[\"celltype\"] == cs), \"Counts\"] = avg_exp"
   ]
  },
  {
   "cell_type": "code",
   "execution_count": null,
   "metadata": {},
   "outputs": [],
   "source": [
    "rss_long"
   ]
  },
  {
   "cell_type": "code",
   "execution_count": 406,
   "metadata": {},
   "outputs": [],
   "source": [
    "# Select 10 most active TFs in each cell state\n",
    "\n",
    "auc_top10 = []\n",
    "for cs in rss_long.celltype.unique() : \n",
    "    tmp = rss_long[rss_long[\"celltype\"] == cs].sort_values(by=\"Activity\", ascending=False)\n",
    "    auc_top10.extend(list(tmp[\"Regulon\"][:10].values))"
   ]
  },
  {
   "cell_type": "code",
   "execution_count": null,
   "metadata": {},
   "outputs": [],
   "source": [
    "len(auc_top10)\n",
    "len(set(auc_top10))"
   ]
  },
  {
   "cell_type": "code",
   "execution_count": 408,
   "metadata": {},
   "outputs": [],
   "source": [
    "# Make list unique while preserving order\n",
    "auc_top10 = list(dict.fromkeys(auc_top10))"
   ]
  },
  {
   "cell_type": "code",
   "execution_count": null,
   "metadata": {},
   "outputs": [],
   "source": [
    "rss_long= rss_long.loc[rss_long[\"Regulon\"].isin(auc_top10),:].copy()\n",
    "rss_long"
   ]
  },
  {
   "cell_type": "code",
   "execution_count": 410,
   "metadata": {},
   "outputs": [],
   "source": [
    "# Get unique categories for both axes\n",
    "unique_tf = rss_long['Regulon'].unique()\n",
    "unique_cs = rss_long['celltype'].unique()\n",
    "\n",
    "# Calculate the center positions of each tile\n",
    "tile_centers = [(i, j) for i in range(len(unique_tf)) for j in range(len(unique_cs))]"
   ]
  },
  {
   "cell_type": "code",
   "execution_count": null,
   "metadata": {},
   "outputs": [],
   "source": [
    "pivot_df = rss_long.pivot(index='celltype', columns='Regulon', values='Activity')\n",
    "pivot_df"
   ]
  },
  {
   "cell_type": "code",
   "execution_count": null,
   "metadata": {},
   "outputs": [],
   "source": [
    "pivot_df = pivot_df[auc_top10]\n",
    "pivot_df"
   ]
  },
  {
   "cell_type": "code",
   "execution_count": null,
   "metadata": {},
   "outputs": [],
   "source": [
    "pivot_df.columns = [reg.split(\"_\")[0] for reg in pivot_df.columns]\n",
    "pivot_df.head()"
   ]
  },
  {
   "cell_type": "code",
   "execution_count": 415,
   "metadata": {},
   "outputs": [],
   "source": [
    "# Cap expression at 2\n",
    "\n",
    "rss_long.loc[rss_long[\"Counts\"] > 2, \"Counts\"] = 2"
   ]
  },
  {
   "cell_type": "code",
   "execution_count": null,
   "metadata": {},
   "outputs": [],
   "source": [
    "import matplotlib as mpl\n",
    "\n",
    "plt.figure(figsize=(15, 3), dpi=300)\n",
    "sns.heatmap(pivot_df, cmap='magma_r')\n",
    "\n",
    "cmap = mpl.colormaps.get_cmap('cividis')\n",
    "for i, (tf, cs) in enumerate(tile_centers):\n",
    "    size = rss_long.loc[(rss_long['Regulon'] == auc_top10[tf]) & (rss_long['celltype'] == unique_cs[cs]),'RSS rank'].values[0]\n",
    "    color_value = rss_long.loc[(rss_long['Regulon'] == auc_top10[tf]) & (rss_long['celltype'] == unique_cs[cs]),'Counts'].values[0]\n",
    "\n",
    "    color = cmap(color_value)\n",
    "    plt.scatter(tf + 0.5, cs + 0.5, s=size/2 , color=color)\n",
    "\n",
    "plt.xlabel('TF')\n",
    "plt.xticks([i+.5 for i in range(pivot_df.shape[1])], list(pivot_df.columns), fontsize=14, rotation=90)\n",
    "plt.ylabel('Celltype')\n",
    "plt.yticks([i+.5 for i in range(pivot_df.shape[0])], list(pivot_df.index), fontsize=16)\n",
    "plt.grid(False)\n",
    "plt.savefig(f\"scenic_postpr_heatmaps/Dotheatmap_MDD_control_TFsbyAUC.png\", bbox_inches=\"tight\")\n",
    "plt.savefig(f\"scenic_postpr_heatmaps/Dotheatmap_MDD_control_TFsbyAUC.svg\", bbox_inches=\"tight\", format=\"svg\")\n",
    "plt.savefig(f\"scenic_postpr_heatmaps/Dotheatmap_MDD_control_TFsbyAUC.pdf\", bbox_inches=\"tight\", format=\"pdf\")\n",
    "plt.show();"
   ]
  },
  {
   "cell_type": "code",
   "execution_count": null,
   "metadata": {},
   "outputs": [],
   "source": [
    "fig,ax = plt.subplots(figsize=(1,3), dpi=300)\n",
    "\n",
    "#adding colorbar\n",
    "norm = mpl.colors.Normalize(vmin=0, vmax=2)\n",
    "sm = plt.cm.ScalarMappable(cmap=cmap,norm=norm)\n",
    "sm.set_array([])\n",
    "cbar = fig.colorbar(sm,ax)\n",
    "for t in cbar.ax.get_yticklabels():\n",
    "    t.set_fontsize(15)\n",
    "    \n",
    "plt.title(\"TF expression\\n\", fontsize=20)\n",
    "plt.grid(False)\n",
    "plt.savefig(f\"scenic_postpr_heatmaps/Dotheatmap_MDD_control_TFsbyAUC_TFexp_Legend.png\", bbox_inches=\"tight\")\n",
    "plt.savefig(f\"scenic_postpr_heatmaps/Dotheatmap_MDD_control_TFsbyAUC_TFexp_Legend.svg\", bbox_inches=\"tight\", format=\"svg\")\n",
    "plt.savefig(f\"scenic_postpr_heatmaps/Dotheatmap_MDD_control_TFsbyAUC_TFexp_Legend.pdf\", bbox_inches=\"tight\", format=\"pdf\")\n",
    "plt.show();"
   ]
  },
  {
   "cell_type": "code",
   "execution_count": null,
   "metadata": {},
   "outputs": [],
   "source": [
    "numbers = [1, 2, 3, 4]\n",
    "val = np.round( np.quantile(rss_long[\"RSS rank\"].values, [.25, .5, .75, 1]), 0)\n",
    "sizes= val /2\n",
    "\n",
    "# Create a figure without any content\n",
    "fig = plt.figure(figsize=(1, 3), dpi=300)\n",
    "\n",
    "# Create an empty axis\n",
    "ax = fig.add_subplot(111)\n",
    "\n",
    "# Plot dots with invisible markers for creating legend\n",
    "for num, size, v in zip(numbers, sizes, val):\n",
    "    ax.scatter([], [], s=size, label=f'{v}', color='black')\n",
    "\n",
    "# Add legend\n",
    "ax.legend(title='RSS rank\\n', loc='center')\n",
    "\n",
    "# Hide axis\n",
    "ax.axis('off')\n",
    "plt.savefig(f\"scenic_postpr_heatmaps/Dotheatmap_MDD_control_TFsbyAUC_RSSrank_Legend.png\", bbox_inches=\"tight\")\n",
    "plt.savefig(f\"scenic_postpr_heatmaps/Dotheatmap_MDD_control_TFsbyAUC_RSSrank_Legend.svg\", bbox_inches=\"tight\", format=\"svg\")\n",
    "plt.savefig(f\"scenic_postpr_heatmaps/Dotheatmap_MDD_control_TFsbyAUC_RSSrank_Legend.pdf\", bbox_inches=\"tight\", format=\"pdf\")\n",
    "plt.show();"
   ]
  },
  {
   "cell_type": "markdown",
   "metadata": {},
   "source": [
    "### MDD female"
   ]
  },
  {
   "cell_type": "code",
   "execution_count": null,
   "metadata": {},
   "outputs": [],
   "source": [
    "!ls -l /scratch/gent/vo/000/gvo00027/projects/CBIGR/21HPP_GRN_neuroinfl/singlecell/SCENIC_rebuttal_VZZ/MDD_female/scenic/MDD_female"
   ]
  },
  {
   "cell_type": "code",
   "execution_count": null,
   "metadata": {},
   "outputs": [],
   "source": [
    "# Import activities\n",
    "\n",
    "loom_mdd = lp.connect(\"/scratch/gent/vo/000/gvo00027/projects/CBIGR/21HPP_GRN_neuroinfl/singlecell/SCENIC_rebuttal_VZZ/MDD_female/scenic/MDD_female/SCENIC_output_MDD_female.loom\" , mode='r', validate=False)\n",
    "auc_mdd = pd.DataFrame(loom_mdd.ca.MotifRegulonsAUC, index=loom_mdd.ca.CellID)\n",
    "auc_mdd.head()"
   ]
  },
  {
   "cell_type": "code",
   "execution_count": null,
   "metadata": {},
   "outputs": [],
   "source": [
    "!pwd"
   ]
  },
  {
   "cell_type": "code",
   "execution_count": 136,
   "metadata": {},
   "outputs": [],
   "source": [
    "auc_mdd.to_csv(\"/scratch/gent/vo/000/gvo00027/projects/CBIGR/21HPP_GRN_neuroinfl/singlecell/SCENIC_rebuttal_VZZ/MDD_female/MDD_female_AUCmat.csv\")"
   ]
  },
  {
   "cell_type": "code",
   "execution_count": null,
   "metadata": {},
   "outputs": [],
   "source": [
    "# Metadata\n",
    "\n",
    "metadata_mdd = pd.read_csv(\"/scratch/gent/vo/000/gvo00027/projects/CBIGR/21HPP_GRN_neuroinfl/singlecell/MDD_M_F_metadata.csv\", index_col=0)\n",
    "metadata_mdd.head()"
   ]
  },
  {
   "cell_type": "code",
   "execution_count": null,
   "metadata": {},
   "outputs": [],
   "source": [
    "# Unify cell names \n",
    "\n",
    "auc_mdd.index = [i.replace(\"Micro.Macro\", \"Micro/Macro\") for i in auc_mdd.index.values]\n",
    "auc_mdd.head()"
   ]
  },
  {
   "cell_type": "code",
   "execution_count": null,
   "metadata": {},
   "outputs": [],
   "source": [
    "auc_mdd.shape"
   ]
  },
  {
   "cell_type": "code",
   "execution_count": null,
   "metadata": {},
   "outputs": [],
   "source": [
    "# Subset to cell present in AUC matrix\n",
    "\n",
    "metadata_mdd = metadata_mdd.loc[auc_mdd.index, :]\n",
    "metadata_mdd.shape"
   ]
  },
  {
   "cell_type": "markdown",
   "metadata": {},
   "source": [
    "Different approach"
   ]
  },
  {
   "cell_type": "code",
   "execution_count": null,
   "metadata": {},
   "outputs": [],
   "source": [
    "for ct in metadata_mdd.Celltype.unique() :\n",
    "    \n",
    "    print(\"Calculating for\", ct)\n",
    "\n",
    "    rss = regulon_specificity_scores(auc_mtx=auc_mdd.loc[metadata_mdd[\"Celltype\"] == ct, :], cell_type_series=metadata_mdd.loc[metadata_mdd[\"Celltype\"] == ct, \"Diagnosis\"])\n",
    "    for cd in rss.index :\n",
    "        rss.loc[cd] =  np.argsort(np.argsort(rss.loc[cd]))\n",
    "\n",
    "    rss.columns = [i.split(\"_\")[0] for i in rss.columns.values]\n",
    "    rss = rss.loc[:, rss.columns.isin(crc_tfs)]\n",
    "    rss.T.to_csv(f\"RSS_CRC_Tables/RSS_CRC_MDD_F_{ct}.csv\")\n",
    "\n",
    "    rss['condition'] = rss.index\n",
    "    rss_melt = pd.melt(rss, id_vars='condition')\n",
    "\n",
    "    # Plot\n",
    "    plt.figure(figsize=(2, 4))\n",
    "    sns.lineplot(\n",
    "        data=rss_melt,\n",
    "        x=\"condition\",\n",
    "        y=\"value\",\n",
    "        hue=\"variable\",\n",
    "        estimator=None,  # Show all data points without aggregation\n",
    "        markers=True,\n",
    "        style=\"variable\",\n",
    "        dashes=False,\n",
    "        alpha=0.7\n",
    "    )\n",
    "    plt.title(f\"Change in RSS ranks in MDD - {ct}\")\n",
    "\n",
    "    # Reverse axis\n",
    "    # plt.gca().invert_yaxis()\n",
    "    # plt.gca().invert_xaxis()\n",
    "\n",
    "    plt.ylim(1,377)\n",
    "\n",
    "    # Move legend to the right\n",
    "    plt.legend(title=\"Regulon\", bbox_to_anchor=(1.05, 1), loc='upper left')\n",
    "    plt.grid(False)\n",
    "    plt.savefig(f\"scenic_postpr_heatmaps/RSSranks_setup2_CRCs_MDD_F_{ct}.png\", bbox_inches=\"tight\")\n",
    "    plt.savefig(f\"scenic_postpr_heatmaps/RSSranks_setup2_CRCs_MDD_F_{ct}.svg\", bbox_inches=\"tight\", format=\"svg\")\n",
    "    plt.savefig(f\"scenic_postpr_heatmaps/RSSranks_setup2_CRCs_MDD_F_{ct}.pdf\", bbox_inches=\"tight\", format=\"pdf\")\n",
    "    plt.show()"
   ]
  },
  {
   "cell_type": "code",
   "execution_count": null,
   "metadata": {},
   "outputs": [],
   "source": [
    "rss"
   ]
  },
  {
   "cell_type": "markdown",
   "metadata": {},
   "source": [
    "##### Dotheatmap"
   ]
  },
  {
   "cell_type": "markdown",
   "metadata": {},
   "source": [
    "Aggregate"
   ]
  },
  {
   "cell_type": "code",
   "execution_count": null,
   "metadata": {},
   "outputs": [],
   "source": [
    "rss_mdd = regulon_specificity_scores(auc_mtx=auc_mdd, cell_type_series=metadata_mdd[\"Celltype\"])\n",
    "rss_mdd"
   ]
  },
  {
   "cell_type": "code",
   "execution_count": null,
   "metadata": {},
   "outputs": [],
   "source": [
    "for ct in rss_mdd.index :\n",
    "    rss_mdd.loc[ct] =  np.argsort(np.argsort(rss_mdd.loc[ct]))\n",
    "\n",
    "rss_mdd"
   ]
  },
  {
   "cell_type": "code",
   "execution_count": null,
   "metadata": {},
   "outputs": [],
   "source": [
    "rss_mdd.max(axis=1)\n",
    "rss_mdd.min(axis=1)"
   ]
  },
  {
   "cell_type": "code",
   "execution_count": null,
   "metadata": {},
   "outputs": [],
   "source": [
    "rss_mdd[\"celltype\"] = rss_mdd.index\n",
    "rss_mdd"
   ]
  },
  {
   "cell_type": "code",
   "execution_count": null,
   "metadata": {},
   "outputs": [],
   "source": [
    "# Order celltypes\n",
    "\n",
    "rss_mdd.sort_index(inplace=True)\n",
    "rss_mdd"
   ]
  },
  {
   "cell_type": "code",
   "execution_count": null,
   "metadata": {},
   "outputs": [],
   "source": [
    "rss_long = pd.melt(rss_mdd, id_vars=\"celltype\")\n",
    "rss_long.columns = [\"celltype\", \"Regulon\", \"RSS rank\"]\n",
    "rss_long"
   ]
  },
  {
   "cell_type": "code",
   "execution_count": null,
   "metadata": {},
   "outputs": [],
   "source": [
    "rss_long[\"Activity\"] = 0\n",
    "rss_long"
   ]
  },
  {
   "cell_type": "code",
   "execution_count": 16,
   "metadata": {},
   "outputs": [],
   "source": [
    "for reg in auc_mdd.columns : \n",
    "\n",
    "    for cs in rss_long.celltype.unique() : \n",
    "\n",
    "        mean_act = np.mean(auc_mdd.loc[metadata_mdd[\"Celltype\"] == cs,reg])\n",
    "        rss_long.loc[(rss_long[\"Regulon\"] == reg) & (rss_long[\"celltype\"] == cs), \"Activity\"] = mean_act"
   ]
  },
  {
   "cell_type": "code",
   "execution_count": null,
   "metadata": {},
   "outputs": [],
   "source": [
    "rss_long"
   ]
  },
  {
   "cell_type": "code",
   "execution_count": 18,
   "metadata": {},
   "outputs": [],
   "source": [
    "# Import expression data\n",
    "\n",
    "mdd_mat = sp.sparse.load_npz(\"/scratch/gent/vo/000/gvo00027/projects/CBIGR/21HPP_GRN_neuroinfl/singlecell/Female_samples_MDD_pyimport/Seurat_MDD_female_pyimport/Seurat_MDD_female.npz\")\n",
    "\n",
    "#genes\n",
    "genes = []\n",
    "with open(\"/scratch/gent/vo/000/gvo00027/projects/CBIGR/21HPP_GRN_neuroinfl/singlecell/Female_samples_MDD_pyimport/Seurat_MDD_female_pyimport/Seurat_MDD_female_featurenames.txt\", \"r\") as f :\n",
    "    for g in f :\n",
    "        genes.append(g.strip())\n",
    "\n",
    "cells = []\n",
    "with open(\"/scratch/gent/vo/000/gvo00027/projects/CBIGR/21HPP_GRN_neuroinfl/singlecell/Female_samples_MDD_pyimport/Seurat_MDD_female_pyimport/Seurat_MDD_female_cellnames.txt\", \"r\") as f :\n",
    "    for c in f :\n",
    "        cells.append(c.strip())\n",
    "\n",
    "# cells = [i.replace(\"Micro.Macro\", \"Micro/Macro\") for i in cells]\n"
   ]
  },
  {
   "cell_type": "code",
   "execution_count": null,
   "metadata": {},
   "outputs": [],
   "source": [
    "exp_mdd = pd.DataFrame(mdd_mat.T.toarray(), index=cells, columns=genes)\n",
    "exp_mdd\n"
   ]
  },
  {
   "cell_type": "code",
   "execution_count": null,
   "metadata": {},
   "outputs": [],
   "source": [
    "rss_long[\"Counts\"] = 0\n",
    "rss_long"
   ]
  },
  {
   "cell_type": "code",
   "execution_count": 21,
   "metadata": {},
   "outputs": [],
   "source": [
    "for reg in rss_long.Regulon.unique() : \n",
    "    tf_name = reg.split(\"_\")[0]\n",
    "    for cs in rss_long.celltype.unique() : \n",
    "        if tf_name in genes :\n",
    "            avg_exp = np.mean(exp_mdd.loc[ metadata_mdd.loc[metadata_mdd[\"Celltype\"] == cs,:].index ][tf_name])\n",
    "        else :\n",
    "            \n",
    "            # quick \"fix\" but check with Hanne\n",
    "            avg_exp = 0\n",
    "        rss_long.loc[(rss_long[\"Regulon\"] == reg) & (rss_long[\"celltype\"] == cs), \"Counts\"] = avg_exp"
   ]
  },
  {
   "cell_type": "code",
   "execution_count": null,
   "metadata": {},
   "outputs": [],
   "source": [
    "rss_long"
   ]
  },
  {
   "cell_type": "code",
   "execution_count": 33,
   "metadata": {},
   "outputs": [],
   "source": [
    "# Select 10 most active TFs in each cell state\n",
    "\n",
    "auc_top10 = []\n",
    "for cs in rss_long.celltype.unique() : \n",
    "    tmp = rss_long[rss_long[\"celltype\"] == cs].sort_values(by=\"Activity\", ascending=False)\n",
    "    auc_top10.extend(list(tmp[\"Regulon\"][:10].values))"
   ]
  },
  {
   "cell_type": "code",
   "execution_count": null,
   "metadata": {},
   "outputs": [],
   "source": [
    "len(auc_top10)\n",
    "len(set(auc_top10))"
   ]
  },
  {
   "cell_type": "code",
   "execution_count": null,
   "metadata": {},
   "outputs": [],
   "source": [
    "# Make list unique while preserving order\n",
    "auc_top10 = list(dict.fromkeys(auc_top10))\n",
    "len(auc_top10)"
   ]
  },
  {
   "cell_type": "code",
   "execution_count": null,
   "metadata": {},
   "outputs": [],
   "source": [
    "# Scale TF expression per cell type\n",
    "\n",
    "for ct in rss_long.celltype.unique() :\n",
    "    rss_long.loc[rss_long[\"celltype\"] == ct, \"Counts\"] = rss_long.loc[rss_long[\"celltype\"] == ct, \"Counts\"] / rss_long.loc[rss_long[\"celltype\"] == ct, \"Counts\"].max()\n",
    "\n",
    "rss_long\n"
   ]
  },
  {
   "cell_type": "code",
   "execution_count": null,
   "metadata": {},
   "outputs": [],
   "source": [
    "# Scale activity per cell type\n",
    "\n",
    "for ct in rss_long.celltype.unique() :\n",
    "    rss_long.loc[rss_long[\"celltype\"] == ct, \"Activity\"] = rss_long.loc[rss_long[\"celltype\"] == ct, \"Activity\"] / rss_long.loc[rss_long[\"celltype\"] == ct, \"Activity\"].max()\n",
    "\n",
    "rss_long"
   ]
  },
  {
   "cell_type": "code",
   "execution_count": null,
   "metadata": {},
   "outputs": [],
   "source": [
    "rss_long[\"Counts\"].max()\n",
    "rss_long[\"Activity\"].max()"
   ]
  },
  {
   "cell_type": "code",
   "execution_count": null,
   "metadata": {},
   "outputs": [],
   "source": [
    "rss_long= rss_long.loc[rss_long[\"Regulon\"].isin(auc_top10),:].copy()\n",
    "rss_long"
   ]
  },
  {
   "cell_type": "code",
   "execution_count": 37,
   "metadata": {},
   "outputs": [],
   "source": [
    "# Get unique categories for both axes\n",
    "unique_tf = rss_long['Regulon'].unique()\n",
    "unique_cs = rss_long['celltype'].unique()\n",
    "\n",
    "# Calculate the center positions of each tile\n",
    "tile_centers = [(i, j) for i in range(len(unique_tf)) for j in range(len(unique_cs))]"
   ]
  },
  {
   "cell_type": "code",
   "execution_count": null,
   "metadata": {},
   "outputs": [],
   "source": [
    "pivot_df = rss_long.pivot(index='celltype', columns='Regulon', values='Activity')\n",
    "pivot_df"
   ]
  },
  {
   "cell_type": "code",
   "execution_count": null,
   "metadata": {},
   "outputs": [],
   "source": [
    "pivot_df = pivot_df[auc_top10]\n",
    "pivot_df"
   ]
  },
  {
   "cell_type": "code",
   "execution_count": null,
   "metadata": {},
   "outputs": [],
   "source": [
    "pivot_df.columns = [reg.split(\"-mot\")[0] for reg in pivot_df.columns]\n",
    "pivot_df.head()"
   ]
  },
  {
   "cell_type": "code",
   "execution_count": 57,
   "metadata": {},
   "outputs": [],
   "source": [
    "import matplotlib.font_manager as fm\n",
    "\n",
    "font_path = '/user/gent/448/vsc44828/arial_font/ARIAL.TTF'\n",
    "arial_font = fm.FontProperties(fname=font_path)"
   ]
  },
  {
   "cell_type": "code",
   "execution_count": 48,
   "metadata": {},
   "outputs": [],
   "source": [
    "pivot_df.index = [\n",
    "    \"Astrocytes\", \n",
    "    \"Endothelial cells\", \n",
    "    \"Excitatory neurons\", \n",
    "    \"Inhibitory neurons\", \n",
    "    \"Microglia\", \n",
    "    \"Mix\", \n",
    "    \"OPCs\", \n",
    "    \"Oligodendrocytes\"\n",
    "]"
   ]
  },
  {
   "cell_type": "code",
   "execution_count": null,
   "metadata": {},
   "outputs": [],
   "source": [
    "import matplotlib as mpl\n",
    "\n",
    "plt.figure(figsize=(15, 3), dpi=300)\n",
    "\n",
    "# Apply the font to tick labels\n",
    "# for label in ax.get_xticklabels() + ax.get_yticklabels():\n",
    "#     label.set_fontproperties(arial_font)\n",
    "\n",
    "sns.heatmap(pivot_df, cmap='magma_r')\n",
    "\n",
    "cmap = mpl.colormaps.get_cmap('cividis')\n",
    "for i, (tf, cs) in enumerate(tile_centers):\n",
    "    size = rss_long.loc[(rss_long['Regulon'] == auc_top10[tf]) & (rss_long['celltype'] == unique_cs[cs]),'RSS rank'].values[0]\n",
    "    color_value = rss_long.loc[(rss_long['Regulon'] == auc_top10[tf]) & (rss_long['celltype'] == unique_cs[cs]),'Counts'].values[0]\n",
    "\n",
    "    color = cmap(color_value)\n",
    "    plt.scatter(tf + 0.5, cs + 0.5, s=size/4 , color=color)\n",
    "\n",
    "plt.xlabel('TF',fontproperties=arial_font)\n",
    "plt.xticks([i+.5 for i in range(pivot_df.shape[1])], list(pivot_df.columns), fontsize=1, rotation=90, fontproperties=arial_font)\n",
    "plt.ylabel('Celltype',fontproperties=arial_font)\n",
    "plt.yticks([i+.5 for i in range(pivot_df.shape[0])], list(pivot_df.index), fontsize=12,fontproperties=arial_font)\n",
    "plt.grid(False)\n",
    "plt.savefig(f\"scenic_postpr_heatmaps/Dotheatmap_MDD_F_total_TFsbyAUC.png\", bbox_inches=\"tight\")\n",
    "plt.savefig(f\"scenic_postpr_heatmaps/Dotheatmap_MDD_F_total_TFsbyAUC.svg\", bbox_inches=\"tight\", format=\"svg\")\n",
    "plt.savefig(f\"scenic_postpr_heatmaps/Dotheatmap_MDD_F_total_TFsbyAUC.pdf\", bbox_inches=\"tight\", format=\"pdf\")\n",
    "plt.show();"
   ]
  },
  {
   "cell_type": "code",
   "execution_count": null,
   "metadata": {},
   "outputs": [],
   "source": [
    "numbers = [1, 2, 3, 4, 5]\n",
    "val = np.round( np.quantile(rss_long[\"RSS rank\"].values, [0, .25, .5, .75, 1]), 0)\n",
    "sizes= val /4\n",
    "\n",
    "# Create a figure without any content\n",
    "fig = plt.figure(figsize=(1, 3), dpi=300)\n",
    "\n",
    "# Create an empty axis\n",
    "ax = fig.add_subplot(111)\n",
    "\n",
    "# Plot dots with invisible markers for creating legend\n",
    "for num, size, v in zip(numbers, sizes, val):\n",
    "    ax.scatter([], [], s=size, label=f'{v}', color='black')\n",
    "\n",
    "# Add legend\n",
    "ax.legend(title='RSS rank\\n', loc='center')\n",
    "\n",
    "# Hide axis\n",
    "ax.axis('off')\n",
    "plt.savefig(f\"scenic_postpr_heatmaps/Dotheatmap_MDD_F_total_TFsbyAUC_RSSrank_Legend.png\", bbox_inches=\"tight\")\n",
    "plt.savefig(f\"scenic_postpr_heatmaps/Dotheatmap_MDD_F_total_TFsbyAUC_RSSrank_Legend.svg\", bbox_inches=\"tight\", format=\"svg\")\n",
    "plt.savefig(f\"scenic_postpr_heatmaps/Dotheatmap_MDD_F_total_TFsbyAUC_RSSrank_Legend.pdf\", bbox_inches=\"tight\", format=\"pdf\")\n",
    "plt.show();"
   ]
  },
  {
   "cell_type": "markdown",
   "metadata": {},
   "source": [
    "Disease"
   ]
  },
  {
   "cell_type": "code",
   "execution_count": null,
   "metadata": {},
   "outputs": [],
   "source": [
    "# Subset for disease and control \n",
    "\n",
    "auc_mdd_dis = auc_mdd.loc[metadata_mdd[\"Diagnosis\"] == \"Suicide\",].copy()\n",
    "auc_mdd_ctrl = auc_mdd.loc[metadata_mdd[\"Diagnosis\"] == \"Control\",].copy()\n",
    "\n",
    "auc_mdd_dis.shape\n",
    "auc_mdd_ctrl.shape"
   ]
  },
  {
   "cell_type": "code",
   "execution_count": null,
   "metadata": {},
   "outputs": [],
   "source": [
    "# Calculate RSS\n",
    "\n",
    "rss_mdd_dis = regulon_specificity_scores(auc_mtx=auc_mdd_dis, cell_type_series=metadata_mdd.loc[metadata_mdd[\"Diagnosis\"] == \"Suicide\", \"Celltype\"])\n",
    "rss_mdd_dis"
   ]
  },
  {
   "cell_type": "code",
   "execution_count": null,
   "metadata": {},
   "outputs": [],
   "source": [
    "for ct in rss_mdd_dis.index :\n",
    "    rss_mdd_dis.loc[ct] =  np.argsort(np.argsort(rss_mdd_dis.loc[ct]))\n",
    "\n",
    "rss_mdd_dis"
   ]
  },
  {
   "cell_type": "code",
   "execution_count": null,
   "metadata": {},
   "outputs": [],
   "source": [
    "rss_mdd_dis.max(axis=1)\n",
    "rss_mdd_dis.min(axis=1)"
   ]
  },
  {
   "cell_type": "code",
   "execution_count": null,
   "metadata": {},
   "outputs": [],
   "source": [
    "rss_mdd_dis[\"celltype\"] = rss_mdd_dis.index\n",
    "rss_mdd_dis"
   ]
  },
  {
   "cell_type": "code",
   "execution_count": null,
   "metadata": {},
   "outputs": [],
   "source": [
    "# Oder celltypes\n",
    "\n",
    "rss_mdd_dis.sort_index(inplace=True)\n",
    "rss_mdd_dis"
   ]
  },
  {
   "cell_type": "code",
   "execution_count": null,
   "metadata": {},
   "outputs": [],
   "source": [
    "rss_long = pd.melt(rss_mdd_dis, id_vars=\"celltype\")\n",
    "rss_long.columns = [\"celltype\", \"Regulon\", \"RSS rank\"]\n",
    "rss_long"
   ]
  },
  {
   "cell_type": "code",
   "execution_count": null,
   "metadata": {},
   "outputs": [],
   "source": [
    "rss_long[\"Activity\"] = 0\n",
    "rss_long"
   ]
  },
  {
   "cell_type": "code",
   "execution_count": 76,
   "metadata": {},
   "outputs": [],
   "source": [
    "for reg in auc_mdd_dis.columns : \n",
    "\n",
    "    for cs in rss_long.celltype.unique() : \n",
    "\n",
    "        mean_act = np.mean(auc_mdd_dis.loc[metadata_mdd.loc[metadata_mdd[\"Diagnosis\"] == \"Suicide\",\"Celltype\"] == cs,reg])\n",
    "        rss_long.loc[(rss_long[\"Regulon\"] == reg) & (rss_long[\"celltype\"] == cs), \"Activity\"] = mean_act"
   ]
  },
  {
   "cell_type": "code",
   "execution_count": null,
   "metadata": {},
   "outputs": [],
   "source": [
    "rss_long"
   ]
  },
  {
   "cell_type": "code",
   "execution_count": null,
   "metadata": {},
   "outputs": [],
   "source": [
    "rss_long[\"Counts\"] = 0\n",
    "rss_long"
   ]
  },
  {
   "cell_type": "code",
   "execution_count": 83,
   "metadata": {},
   "outputs": [],
   "source": [
    "for reg in rss_long.Regulon.unique() : \n",
    "    tf_name = reg.split(\"_\")[0]\n",
    "    for cs in rss_long.celltype.unique() : \n",
    "        if tf_name in genes :\n",
    "            avg_exp = np.mean(exp_mdd.loc[ metadata_mdd.loc[(metadata_mdd[\"Diagnosis\"] == \"Suicide\") & (metadata_mdd[\"Celltype\"] == cs)].index ][tf_name])\n",
    "        else :\n",
    "            \n",
    "            # quick \"fix\" but check with Hanne\n",
    "            avg_exp = 0\n",
    "        rss_long.loc[(rss_long[\"Regulon\"] == reg) & (rss_long[\"celltype\"] == cs), \"Counts\"] = avg_exp"
   ]
  },
  {
   "cell_type": "code",
   "execution_count": null,
   "metadata": {},
   "outputs": [],
   "source": [
    "rss_long"
   ]
  },
  {
   "cell_type": "code",
   "execution_count": 85,
   "metadata": {},
   "outputs": [],
   "source": [
    "# Select 10 most active TFs in each cell state\n",
    "\n",
    "auc_top10 = []\n",
    "for cs in rss_long.celltype.unique() : \n",
    "    tmp = rss_long[rss_long[\"celltype\"] == cs].sort_values(by=\"Activity\", ascending=False)\n",
    "    auc_top10.extend(list(tmp[\"Regulon\"][:10].values))"
   ]
  },
  {
   "cell_type": "code",
   "execution_count": null,
   "metadata": {},
   "outputs": [],
   "source": [
    "len(auc_top10)\n",
    "len(set(auc_top10))"
   ]
  },
  {
   "cell_type": "code",
   "execution_count": 87,
   "metadata": {},
   "outputs": [],
   "source": [
    "# Make list unique while preserving order\n",
    "auc_top10 = list(dict.fromkeys(auc_top10))"
   ]
  },
  {
   "cell_type": "code",
   "execution_count": null,
   "metadata": {},
   "outputs": [],
   "source": [
    "len(auc_top10)"
   ]
  },
  {
   "cell_type": "code",
   "execution_count": null,
   "metadata": {},
   "outputs": [],
   "source": [
    "rss_long= rss_long.loc[rss_long[\"Regulon\"].isin(auc_top10),:].copy()\n",
    "rss_long"
   ]
  },
  {
   "cell_type": "code",
   "execution_count": 90,
   "metadata": {},
   "outputs": [],
   "source": [
    "# Get unique categories for both axes\n",
    "unique_tf = rss_long['Regulon'].unique()\n",
    "unique_cs = rss_long['celltype'].unique()\n",
    "\n",
    "# Calculate the center positions of each tile\n",
    "tile_centers = [(i, j) for i in range(len(unique_tf)) for j in range(len(unique_cs))]"
   ]
  },
  {
   "cell_type": "code",
   "execution_count": null,
   "metadata": {},
   "outputs": [],
   "source": [
    "pivot_df = rss_long.pivot(index='celltype', columns='Regulon', values='Activity')\n",
    "pivot_df"
   ]
  },
  {
   "cell_type": "code",
   "execution_count": null,
   "metadata": {},
   "outputs": [],
   "source": [
    "pivot_df = pivot_df[auc_top10]\n",
    "pivot_df"
   ]
  },
  {
   "cell_type": "code",
   "execution_count": null,
   "metadata": {},
   "outputs": [],
   "source": [
    "pivot_df.columns = [reg.split(\"_\")[0] for reg in pivot_df.columns]\n",
    "pivot_df.head()"
   ]
  },
  {
   "cell_type": "code",
   "execution_count": null,
   "metadata": {},
   "outputs": [],
   "source": [
    "rss_long[\"Counts\"].max()"
   ]
  },
  {
   "cell_type": "code",
   "execution_count": 95,
   "metadata": {},
   "outputs": [],
   "source": [
    "# Cap expression at 2\n",
    "\n",
    "rss_long.loc[rss_long[\"Counts\"] > 2, \"Counts\"] = 2"
   ]
  },
  {
   "cell_type": "code",
   "execution_count": null,
   "metadata": {},
   "outputs": [],
   "source": [
    "import matplotlib as mpl\n",
    "\n",
    "plt.figure(figsize=(15, 3), dpi=300)\n",
    "sns.heatmap(pivot_df, cmap='magma_r')\n",
    "\n",
    "cmap = mpl.colormaps.get_cmap('cividis')\n",
    "for i, (tf, cs) in enumerate(tile_centers):\n",
    "    size = rss_long.loc[(rss_long['Regulon'] == auc_top10[tf]) & (rss_long['celltype'] == unique_cs[cs]),'RSS rank'].values[0]\n",
    "    color_value = rss_long.loc[(rss_long['Regulon'] == auc_top10[tf]) & (rss_long['celltype'] == unique_cs[cs]),'Counts'].values[0]\n",
    "\n",
    "    color = cmap(color_value)\n",
    "    plt.scatter(tf + 0.5, cs + 0.5, s=size/3 , color=color)\n",
    "\n",
    "plt.xlabel('TF')\n",
    "plt.xticks([i+.5 for i in range(pivot_df.shape[1])], list(pivot_df.columns), fontsize=12, rotation=90)\n",
    "plt.ylabel('Celltype')\n",
    "plt.yticks([i+.5 for i in range(pivot_df.shape[0])], list(pivot_df.index), fontsize=12)\n",
    "plt.grid(False)\n",
    "plt.savefig(f\"scenic_postpr_heatmaps/Dotheatmap_MDD_F_disease_TFsbyAUC.png\", bbox_inches=\"tight\")\n",
    "plt.savefig(f\"scenic_postpr_heatmaps/Dotheatmap_MDD_F_disease_TFsbyAUC.svg\", bbox_inches=\"tight\", format=\"svg\")\n",
    "plt.savefig(f\"scenic_postpr_heatmaps/Dotheatmap_MDD_F_disease_TFsbyAUC.pdf\", bbox_inches=\"tight\", format=\"pdf\")\n",
    "plt.show();"
   ]
  },
  {
   "cell_type": "code",
   "execution_count": null,
   "metadata": {},
   "outputs": [],
   "source": [
    "rss_long[\"Counts\"].max()"
   ]
  },
  {
   "cell_type": "code",
   "execution_count": null,
   "metadata": {},
   "outputs": [],
   "source": [
    "fig,ax = plt.subplots(figsize=(1,3), dpi=300)\n",
    "\n",
    "#adding colorbar\n",
    "norm = mpl.colors.Normalize(vmin=0, vmax=2)\n",
    "sm = plt.cm.ScalarMappable(cmap=cmap,norm=norm)\n",
    "sm.set_array([])\n",
    "cbar = fig.colorbar(sm,ax)\n",
    "for t in cbar.ax.get_yticklabels():\n",
    "    t.set_fontsize(15)\n",
    "    \n",
    "plt.title(\"TF expression\\n\", fontsize=20)\n",
    "plt.grid(False)\n",
    "plt.savefig(f\"scenic_postpr_heatmaps/Dotheatmap_MDD_F_disease_TFsbyAUC_TFexp_Legend.png\", bbox_inches=\"tight\")\n",
    "plt.savefig(f\"scenic_postpr_heatmaps/Dotheatmap_MDD_F_disease_TFsbyAUC_TFexp_Legend.svg\", bbox_inches=\"tight\", format=\"svg\")\n",
    "plt.savefig(f\"scenic_postpr_heatmaps/Dotheatmap_MDD_F_disease_TFsbyAUC_TFexp_Legend.pdf\", bbox_inches=\"tight\", format=\"pdf\")\n",
    "plt.show();"
   ]
  },
  {
   "cell_type": "code",
   "execution_count": null,
   "metadata": {},
   "outputs": [],
   "source": [
    "numbers = [1, 2, 3, 4]\n",
    "val = np.round( np.quantile(rss_long[\"RSS rank\"].values, [.25, .5, .75, 1]), 0)\n",
    "sizes= val /3\n",
    "\n",
    "# Create a figure without any content\n",
    "fig = plt.figure(figsize=(1, 3), dpi=300)\n",
    "\n",
    "# Create an empty axis\n",
    "ax = fig.add_subplot(111)\n",
    "\n",
    "# Plot dots with invisible markers for creating legend\n",
    "for num, size, v in zip(numbers, sizes, val):\n",
    "    ax.scatter([], [], s=size, label=f'{v}', color='black')\n",
    "\n",
    "# Add legend\n",
    "ax.legend(title='RSS rank\\n', loc='center')\n",
    "\n",
    "# Hide axis\n",
    "ax.axis('off')\n",
    "plt.savefig(f\"scenic_postpr_heatmaps/Dotheatmap_MDD_F_disease_TFsbyAUC_RSSrank_Legend.png\", bbox_inches=\"tight\")\n",
    "plt.savefig(f\"scenic_postpr_heatmaps/Dotheatmap_MDD_F_disease_TFsbyAUC_RSSrank_Legend.svg\", bbox_inches=\"tight\", format=\"svg\")\n",
    "plt.savefig(f\"scenic_postpr_heatmaps/Dotheatmap_MDD_F_disease_TFsbyAUC_RSSrank_Legend.pdf\", bbox_inches=\"tight\", format=\"pdf\")\n",
    "plt.show();"
   ]
  },
  {
   "cell_type": "markdown",
   "metadata": {},
   "source": [
    "Control"
   ]
  },
  {
   "cell_type": "code",
   "execution_count": null,
   "metadata": {},
   "outputs": [],
   "source": [
    "# Calculate RSS\n",
    "\n",
    "rss_mdd_ctrl = regulon_specificity_scores(auc_mtx=auc_mdd_ctrl, cell_type_series=metadata_mdd.loc[metadata_mdd[\"Diagnosis\"] == \"Control\", \"Celltype\"])\n",
    "rss_mdd_ctrl"
   ]
  },
  {
   "cell_type": "code",
   "execution_count": null,
   "metadata": {},
   "outputs": [],
   "source": [
    "for ct in rss_mdd_ctrl.index :\n",
    "    rss_mdd_ctrl.loc[ct] =  np.argsort(np.argsort(rss_mdd_ctrl.loc[ct]))\n",
    "\n",
    "rss_mdd_ctrl"
   ]
  },
  {
   "cell_type": "code",
   "execution_count": null,
   "metadata": {},
   "outputs": [],
   "source": [
    "rss_mdd_ctrl.max(axis=1)\n",
    "rss_mdd_ctrl.min(axis=1)"
   ]
  },
  {
   "cell_type": "code",
   "execution_count": null,
   "metadata": {},
   "outputs": [],
   "source": [
    "rss_mdd_ctrl[\"celltype\"] = rss_mdd_ctrl.index\n",
    "rss_mdd_ctrl"
   ]
  },
  {
   "cell_type": "code",
   "execution_count": null,
   "metadata": {},
   "outputs": [],
   "source": [
    "# Oder celltypes\n",
    "\n",
    "rss_mdd_ctrl.sort_index(inplace=True)\n",
    "rss_mdd_ctrl"
   ]
  },
  {
   "cell_type": "code",
   "execution_count": null,
   "metadata": {},
   "outputs": [],
   "source": [
    "rss_long = pd.melt(rss_mdd_ctrl, id_vars=\"celltype\")\n",
    "rss_long.columns = [\"celltype\", \"Regulon\", \"RSS rank\"]\n",
    "rss_long"
   ]
  },
  {
   "cell_type": "code",
   "execution_count": null,
   "metadata": {},
   "outputs": [],
   "source": [
    "rss_long[\"Activity\"] = 0\n",
    "rss_long"
   ]
  },
  {
   "cell_type": "code",
   "execution_count": 110,
   "metadata": {},
   "outputs": [],
   "source": [
    "for reg in auc_mdd_ctrl.columns : \n",
    "\n",
    "    for cs in rss_long.celltype.unique() : \n",
    "\n",
    "        mean_act = np.mean(auc_mdd_ctrl.loc[metadata_mdd.loc[metadata_mdd[\"Diagnosis\"] == \"Control\",\"Celltype\"] == cs,reg])\n",
    "        rss_long.loc[(rss_long[\"Regulon\"] == reg) & (rss_long[\"celltype\"] == cs), \"Activity\"] = mean_act"
   ]
  },
  {
   "cell_type": "code",
   "execution_count": null,
   "metadata": {},
   "outputs": [],
   "source": [
    "rss_long"
   ]
  },
  {
   "cell_type": "code",
   "execution_count": null,
   "metadata": {},
   "outputs": [],
   "source": [
    "rss_long[\"Counts\"] = 0\n",
    "rss_long"
   ]
  },
  {
   "cell_type": "code",
   "execution_count": 113,
   "metadata": {},
   "outputs": [],
   "source": [
    "for reg in rss_long.Regulon.unique() : \n",
    "    tf_name = reg.split(\"_\")[0]\n",
    "    for cs in rss_long.celltype.unique() : \n",
    "        if tf_name in genes :\n",
    "            avg_exp = np.mean(exp_mdd.loc[ metadata_mdd.loc[(metadata_mdd[\"Diagnosis\"] == \"Control\") & (metadata_mdd[\"Celltype\"] == cs)].index ][tf_name])\n",
    "        else :\n",
    "            \n",
    "            # quick \"fix\" but check with Hanne\n",
    "            avg_exp = 0\n",
    "        rss_long.loc[(rss_long[\"Regulon\"] == reg) & (rss_long[\"celltype\"] == cs), \"Counts\"] = avg_exp"
   ]
  },
  {
   "cell_type": "code",
   "execution_count": null,
   "metadata": {},
   "outputs": [],
   "source": [
    "rss_long"
   ]
  },
  {
   "cell_type": "code",
   "execution_count": 115,
   "metadata": {},
   "outputs": [],
   "source": [
    "# Select 10 most active TFs in each cell state\n",
    "\n",
    "auc_top10 = []\n",
    "for cs in rss_long.celltype.unique() : \n",
    "    tmp = rss_long[rss_long[\"celltype\"] == cs].sort_values(by=\"Activity\", ascending=False)\n",
    "    auc_top10.extend(list(tmp[\"Regulon\"][:10].values))"
   ]
  },
  {
   "cell_type": "code",
   "execution_count": null,
   "metadata": {},
   "outputs": [],
   "source": [
    "len(auc_top10)\n",
    "len(set(auc_top10))"
   ]
  },
  {
   "cell_type": "code",
   "execution_count": null,
   "metadata": {},
   "outputs": [],
   "source": [
    "# Make list unique while preserving order\n",
    "auc_top10 = list(dict.fromkeys(auc_top10))\n",
    "len(auc_top10)"
   ]
  },
  {
   "cell_type": "code",
   "execution_count": null,
   "metadata": {},
   "outputs": [],
   "source": [
    "rss_long= rss_long.loc[rss_long[\"Regulon\"].isin(auc_top10),:].copy()\n",
    "rss_long"
   ]
  },
  {
   "cell_type": "code",
   "execution_count": 119,
   "metadata": {},
   "outputs": [],
   "source": [
    "# Get unique categories for both axes\n",
    "unique_tf = rss_long['Regulon'].unique()\n",
    "unique_cs = rss_long['celltype'].unique()\n",
    "\n",
    "# Calculate the center positions of each tile\n",
    "tile_centers = [(i, j) for i in range(len(unique_tf)) for j in range(len(unique_cs))]"
   ]
  },
  {
   "cell_type": "code",
   "execution_count": null,
   "metadata": {},
   "outputs": [],
   "source": [
    "pivot_df = rss_long.pivot(index='celltype', columns='Regulon', values='Activity')\n",
    "pivot_df"
   ]
  },
  {
   "cell_type": "code",
   "execution_count": null,
   "metadata": {},
   "outputs": [],
   "source": [
    "pivot_df = pivot_df[auc_top10]\n",
    "pivot_df"
   ]
  },
  {
   "cell_type": "code",
   "execution_count": null,
   "metadata": {},
   "outputs": [],
   "source": [
    "pivot_df.columns = [reg.split(\"_\")[0] for reg in pivot_df.columns]\n",
    "pivot_df.head()"
   ]
  },
  {
   "cell_type": "code",
   "execution_count": 128,
   "metadata": {},
   "outputs": [],
   "source": [
    "# Cap expression at 2\n",
    "\n",
    "rss_long.loc[rss_long[\"Counts\"] > 2, \"Counts\"] = 2"
   ]
  },
  {
   "cell_type": "code",
   "execution_count": null,
   "metadata": {},
   "outputs": [],
   "source": [
    "import matplotlib as mpl\n",
    "\n",
    "plt.figure(figsize=(15, 3), dpi=300)\n",
    "sns.heatmap(pivot_df, cmap='magma_r')\n",
    "\n",
    "cmap = mpl.colormaps.get_cmap('cividis')\n",
    "for i, (tf, cs) in enumerate(tile_centers):\n",
    "    size = rss_long.loc[(rss_long['Regulon'] == auc_top10[tf]) & (rss_long['celltype'] == unique_cs[cs]),'RSS rank'].values[0]\n",
    "    color_value = rss_long.loc[(rss_long['Regulon'] == auc_top10[tf]) & (rss_long['celltype'] == unique_cs[cs]),'Counts'].values[0]\n",
    "\n",
    "    color = cmap(color_value)\n",
    "    plt.scatter(tf + 0.5, cs + 0.5, s=size/3 , color=color)\n",
    "\n",
    "plt.xlabel('TF')\n",
    "plt.xticks([i+.5 for i in range(pivot_df.shape[1])], list(pivot_df.columns), fontsize=12, rotation=90)\n",
    "plt.ylabel('Celltype')\n",
    "plt.yticks([i+.5 for i in range(pivot_df.shape[0])], list(pivot_df.index), fontsize=12)\n",
    "plt.grid(False)\n",
    "plt.savefig(f\"scenic_postpr_heatmaps/Dotheatmap_MDD_F_control_TFsbyAUC.png\", bbox_inches=\"tight\")\n",
    "plt.savefig(f\"scenic_postpr_heatmaps/Dotheatmap_MDD_F_control_TFsbyAUC.svg\", bbox_inches=\"tight\", format=\"svg\")\n",
    "plt.savefig(f\"scenic_postpr_heatmaps/Dotheatmap_MDD_F_control_TFsbyAUC.pdf\", bbox_inches=\"tight\", format=\"pdf\")\n",
    "plt.show();"
   ]
  },
  {
   "cell_type": "code",
   "execution_count": null,
   "metadata": {},
   "outputs": [],
   "source": [
    "fig,ax = plt.subplots(figsize=(1,3), dpi=300)\n",
    "\n",
    "#adding colorbar\n",
    "norm = mpl.colors.Normalize(vmin=0, vmax=2)\n",
    "sm = plt.cm.ScalarMappable(cmap=cmap,norm=norm)\n",
    "sm.set_array([])\n",
    "cbar = fig.colorbar(sm,ax)\n",
    "for t in cbar.ax.get_yticklabels():\n",
    "    t.set_fontsize(15)\n",
    "    \n",
    "plt.title(\"TF expression\\n\", fontsize=20)\n",
    "plt.grid(False)\n",
    "plt.savefig(f\"scenic_postpr_heatmaps/Dotheatmap_MDD_F_control_TFsbyAUC_TFexp_Legend.png\", bbox_inches=\"tight\")\n",
    "plt.savefig(f\"scenic_postpr_heatmaps/Dotheatmap_MDD_F_control_TFsbyAUC_TFexp_Legend.svg\", bbox_inches=\"tight\", format=\"svg\")\n",
    "plt.savefig(f\"scenic_postpr_heatmaps/Dotheatmap_MDD_F_control_TFsbyAUC_TFexp_Legend.pdf\", bbox_inches=\"tight\", format=\"pdf\")\n",
    "plt.show();"
   ]
  },
  {
   "cell_type": "code",
   "execution_count": null,
   "metadata": {},
   "outputs": [],
   "source": [
    "numbers = [1, 2, 3, 4]\n",
    "val = np.round( np.quantile(rss_long[\"RSS rank\"].values, [.25, .5, .75, 1]), 0)\n",
    "sizes= val /3\n",
    "\n",
    "# Create a figure without any content\n",
    "fig = plt.figure(figsize=(1, 3), dpi=300)\n",
    "\n",
    "# Create an empty axis\n",
    "ax = fig.add_subplot(111)\n",
    "\n",
    "# Plot dots with invisible markers for creating legend\n",
    "for num, size, v in zip(numbers, sizes, val):\n",
    "    ax.scatter([], [], s=size, label=f'{v}', color='black')\n",
    "\n",
    "# Add legend\n",
    "ax.legend(title='RSS rank\\n', loc='center')\n",
    "\n",
    "# Hide axis\n",
    "ax.axis('off')\n",
    "plt.savefig(f\"scenic_postpr_heatmaps/Dotheatmap_MDD_F_control_TFsbyAUC_RSSrank_Legend.png\", bbox_inches=\"tight\")\n",
    "plt.savefig(f\"scenic_postpr_heatmaps/Dotheatmap_MDD_F_control_TFsbyAUC_RSSrank_Legend.svg\", bbox_inches=\"tight\", format=\"svg\")\n",
    "plt.savefig(f\"scenic_postpr_heatmaps/Dotheatmap_MDD_F_control_TFsbyAUC_RSSrank_Legend.pdf\", bbox_inches=\"tight\", format=\"pdf\")\n",
    "plt.show();"
   ]
  }
 ],
 "metadata": {
  "kernelspec": {
   "display_name": "Python 3",
   "language": "python",
   "name": "python3"
  },
  "language_info": {
   "codemirror_mode": {
    "name": "ipython",
    "version": 3
   },
   "file_extension": ".py",
   "mimetype": "text/x-python",
   "name": "python",
   "nbconvert_exporter": "python",
   "pygments_lexer": "ipython3",
   "version": "3.11.3"
  }
 },
 "nbformat": 4,
 "nbformat_minor": 2
}
