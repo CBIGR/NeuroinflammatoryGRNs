{
 "cells": [
  {
   "cell_type": "code",
   "execution_count": null,
   "metadata": {},
   "outputs": [],
   "source": [
    "import scanpy as sc\n",
    "import scipy as sp\n",
    "import pandas as pd\n",
    "import matplotlib.pyplot as plt\n",
    "import random\n",
    "import numpy as np\n",
    "from math import sqrt, ceil, floor\n",
    "import seaborn as sns\n",
    "import glob\n",
    "import os\n",
    "import sys\n",
    "import pickle as pkl\n",
    "import json\n",
    "from datetime import datetime\n",
    "import warnings\n",
    "\n",
    "# for white background of figures (only for docs rendering)\n",
    "%config InlineBackend.print_figure_kwargs={'facecolor' : \"w\"}\n",
    "%config InlineBackend.figure_format='retina'\n",
    "\n",
    "#hpc figures\n",
    "%matplotlib inline\n",
    "\n",
    "from IPython.core.interactiveshell import InteractiveShell\n",
    "InteractiveShell.ast_node_interactivity = \"all\" # print multiple outputs per code cell (not just last)\n",
    "seed = 250\n",
    "def set_seed(seed=int): # Set seed\n",
    "    random.seed(seed)\n",
    "    np.random.seed(seed)\n",
    "    os.environ[\"PYTHONHASHSEED\"] = str(seed)\n",
    "    print('Seed set to', seed)\n",
    "\n",
    "set_seed(seed)"
   ]
  },
  {
   "cell_type": "markdown",
   "metadata": {},
   "source": [
    "### Create loom for MDD"
   ]
  },
  {
   "cell_type": "code",
   "execution_count": null,
   "metadata": {},
   "outputs": [],
   "source": [
    "mdd_mat = sc.read_text(\"counts_MDD_only_norm.txt\")\n",
    "mdd_mat"
   ]
  },
  {
   "cell_type": "code",
   "execution_count": 3,
   "metadata": {},
   "outputs": [],
   "source": [
    "# dimensions are in R format\n",
    "genes = mdd_mat.obs.index\n",
    "cells = mdd_mat.var.index"
   ]
  },
  {
   "cell_type": "code",
   "execution_count": null,
   "metadata": {},
   "outputs": [],
   "source": [
    "import anndata as ad\n",
    "\n",
    "adata_mdd = ad.AnnData(mdd_mat.T)\n",
    "adata_mdd"
   ]
  },
  {
   "cell_type": "code",
   "execution_count": null,
   "metadata": {},
   "outputs": [],
   "source": [
    "adata_mdd.obs.index = cells\n",
    "adata_mdd.var.index = genes\n",
    "\n",
    "adata_mdd"
   ]
  },
  {
   "cell_type": "code",
   "execution_count": null,
   "metadata": {},
   "outputs": [],
   "source": [
    "metadata_mdd = pd.read_csv(\"Metadata_MDD.txt\", index_col=0, sep = \"\\t\")\n",
    "metadata_mdd.head()\n",
    "metadata_mdd.shape"
   ]
  },
  {
   "cell_type": "code",
   "execution_count": null,
   "metadata": {},
   "outputs": [],
   "source": [
    "metadata_mdd.Diagnosis.value_counts()"
   ]
  },
  {
   "cell_type": "code",
   "execution_count": null,
   "metadata": {},
   "outputs": [],
   "source": [
    "pd.Series(adata_mdd.obs.index.isin(metadata_mdd.index)).value_counts()"
   ]
  },
  {
   "cell_type": "code",
   "execution_count": null,
   "metadata": {},
   "outputs": [],
   "source": [
    "adata_mdd.obs.index[ ~ adata_mdd.obs.index.isin(metadata_mdd.index)]"
   ]
  },
  {
   "cell_type": "code",
   "execution_count": null,
   "metadata": {},
   "outputs": [],
   "source": [
    "pd.Series(adata_mdd.obs.index.str.startswith('Micro')).value_counts()"
   ]
  },
  {
   "cell_type": "code",
   "execution_count": null,
   "metadata": {},
   "outputs": [],
   "source": [
    "pd.Series(metadata_mdd.index.str.startswith('Micro')).value_counts()"
   ]
  },
  {
   "cell_type": "markdown",
   "metadata": {},
   "source": [
    "Microglial cells are called differently between expression matrix and metadata: \n",
    "* metadata: `Micro/Macro.*`\n",
    "* exp. matrix: `Micro.Macro.*`\n",
    "Maybe during the export of a file the `/` got coverted into a dot or vv. \n",
    "Anyways, since the prefix of all cells are the respective cell type, I don't really need the metadata file for celltype annotation."
   ]
  },
  {
   "cell_type": "code",
   "execution_count": null,
   "metadata": {},
   "outputs": [],
   "source": [
    "sns.histplot(adata_mdd.X.sum(axis=1))"
   ]
  },
  {
   "cell_type": "code",
   "execution_count": null,
   "metadata": {},
   "outputs": [],
   "source": [
    "import loompy as lp"
   ]
  },
  {
   "cell_type": "code",
   "execution_count": 18,
   "metadata": {},
   "outputs": [],
   "source": [
    "col_attrs = {\n",
    "\"CellID\": np.array(adata_mdd.obs.index) ,\n",
    "\"nGene\": np.array( np.sum(adata_mdd.X.transpose()>0 , axis=0)).flatten() ,\n",
    "\"nUMI\": np.array( np.sum(adata_mdd.X.transpose() , axis=0)).flatten() ,\n",
    "}\n",
    "\n",
    "row_attrs = {\n",
    "\"Gene\": np.array(adata_mdd.var.index) ,\n",
    "}\n",
    "\n",
    "loom_path = \"/kyukon/scratch/gent/vo/000/gvo00027/projects/CBIGR/21HPP_GRN_neuroinfl/singlecell/SCENIC/input/counts_MDD_only_norm.loom\"\n",
    "\n",
    "lp.create(loom_path, adata_mdd.X.transpose(), row_attrs, col_attrs)"
   ]
  },
  {
   "cell_type": "code",
   "execution_count": null,
   "metadata": {},
   "outputs": [],
   "source": [
    "# Also save small subset for testing\n",
    "\n",
    "subset_mdd = adata_mdd[np.random.choice(adata_mdd.obs_names, 500, replace=False)].copy()\n",
    "subset_mdd"
   ]
  },
  {
   "cell_type": "code",
   "execution_count": null,
   "metadata": {},
   "outputs": [],
   "source": [
    "sc.pp.highly_variable_genes(subset_mdd, subset=True, n_top_genes=2000, flavor=\"seurat\")\n",
    "subset_mdd"
   ]
  },
  {
   "cell_type": "code",
   "execution_count": 15,
   "metadata": {},
   "outputs": [],
   "source": [
    "col_attrs = {\n",
    "\"CellID\": np.array(subset_mdd.obs.index) ,\n",
    "\"nGene\": np.array( np.sum(subset_mdd.X.transpose()>0 , axis=0)).flatten() ,\n",
    "\"nUMI\": np.array( np.sum(subset_mdd.X.transpose() , axis=0)).flatten() ,\n",
    "}\n",
    "\n",
    "row_attrs = {\n",
    "\"Gene\": np.array(subset_mdd.var.index) ,\n",
    "}\n",
    "\n",
    "loom_path = \"/kyukon/scratch/gent/vo/000/gvo00027/projects/CBIGR/21HPP_GRN_neuroinfl/singlecell/SCENIC/input/testing_MDD.loom\"\n",
    "\n",
    "lp.create(loom_path, subset_mdd.X.transpose(), row_attrs, col_attrs)"
   ]
  },
  {
   "cell_type": "code",
   "execution_count": 18,
   "metadata": {},
   "outputs": [],
   "source": [
    "# also save as csv\n",
    "\n",
    "subset_mdd.to_df().to_csv(\"/kyukon/scratch/gent/vo/000/gvo00027/projects/CBIGR/21HPP_GRN_neuroinfl/singlecell/SCENIC/input/testing_MDD.csv\")"
   ]
  },
  {
   "cell_type": "markdown",
   "metadata": {},
   "source": [
    "### Create loom for AD"
   ]
  },
  {
   "cell_type": "code",
   "execution_count": null,
   "metadata": {},
   "outputs": [],
   "source": [
    "ad_mat = sc.read_text(\"counts_AD_only_norm.txt\")\n",
    "ad_mat"
   ]
  },
  {
   "cell_type": "code",
   "execution_count": null,
   "metadata": {},
   "outputs": [],
   "source": [
    "# dimensions are in R format\n",
    "genes = ad_mat.obs.index\n",
    "cells = ad_mat.var.index\n",
    "cells[:10]"
   ]
  },
  {
   "cell_type": "code",
   "execution_count": null,
   "metadata": {},
   "outputs": [],
   "source": [
    "cells = [i.replace(\".\", \"-\") for i in cells]\n",
    "cells[:10]"
   ]
  },
  {
   "cell_type": "code",
   "execution_count": null,
   "metadata": {},
   "outputs": [],
   "source": [
    "adata_ad = ad.AnnData(ad_mat.T)\n",
    "adata_ad"
   ]
  },
  {
   "cell_type": "code",
   "execution_count": null,
   "metadata": {},
   "outputs": [],
   "source": [
    "adata_ad.obs.index = cells\n",
    "adata_ad.var.index = genes\n",
    "\n",
    "adata_ad"
   ]
  },
  {
   "cell_type": "code",
   "execution_count": null,
   "metadata": {},
   "outputs": [],
   "source": [
    "metadata_ad = pd.read_csv(\"snRNA_metadta.csv\", index_col=0)\n",
    "metadata_ad.head()\n",
    "metadata_ad.shape"
   ]
  },
  {
   "cell_type": "code",
   "execution_count": null,
   "metadata": {},
   "outputs": [],
   "source": [
    "metadata_ad.Diagnosis.value_counts()"
   ]
  },
  {
   "cell_type": "code",
   "execution_count": null,
   "metadata": {},
   "outputs": [],
   "source": [
    "pd.Series(adata_ad.obs.index.isin(metadata_ad.index)).value_counts()"
   ]
  },
  {
   "cell_type": "code",
   "execution_count": null,
   "metadata": {},
   "outputs": [],
   "source": [
    "sns.histplot(adata_ad.X.sum(axis=1))"
   ]
  },
  {
   "cell_type": "code",
   "execution_count": 73,
   "metadata": {},
   "outputs": [],
   "source": [
    "col_attrs = {\n",
    "\"CellID\": np.array(adata_ad.obs.index) ,\n",
    "\"nGene\": np.array( np.sum(adata_ad.X.transpose()>0 , axis=0)).flatten() ,\n",
    "\"nUMI\": np.array( np.sum(adata_ad.X.transpose() , axis=0)).flatten() ,\n",
    "}\n",
    "\n",
    "row_attrs = {\n",
    "\"Gene\": np.array(adata_ad.var.index) ,\n",
    "}\n",
    "\n",
    "loom_path = \"/kyukon/scratch/gent/vo/000/gvo00027/projects/CBIGR/21HPP_GRN_neuroinfl/singlecell/counts_AD_only_norm.loom\"\n",
    "\n",
    "lp.create(loom_path, adata_ad.X.transpose(), row_attrs, col_attrs)"
   ]
  },
  {
   "cell_type": "code",
   "execution_count": null,
   "metadata": {},
   "outputs": [],
   "source": [
    "!mv *loom SCE"
   ]
  }
 ],
 "metadata": {
  "kernelspec": {
   "display_name": "Python 3",
   "language": "python",
   "name": "python3"
  },
  "language_info": {
   "codemirror_mode": {
    "name": "ipython",
    "version": 3
   },
   "file_extension": ".py",
   "mimetype": "text/x-python",
   "name": "python",
   "nbconvert_exporter": "python",
   "pygments_lexer": "ipython3",
   "version": "3.11.3"
  }
 },
 "nbformat": 4,
 "nbformat_minor": 2
}
