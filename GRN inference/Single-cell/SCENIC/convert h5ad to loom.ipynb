{
 "cells": [
  {
   "cell_type": "code",
   "execution_count": 4,
   "id": "23272440",
   "metadata": {},
   "outputs": [],
   "source": [
    "# import dependencies\n",
    "import os\n",
    "import numpy as np #\n",
    "import scanpy as sc #\n",
    "import loompy as lp #\n",
    "#from MulticoreTSNE import MulticoreTSNE as TSNE"
   ]
  },
  {
   "cell_type": "code",
   "execution_count": 3,
   "id": "94c5346d",
   "metadata": {},
   "outputs": [],
   "source": [
    "#f_mtx_dir = '/media/joke_d/Shared/SCENIC/data/105ABIS'\n",
    "\n",
    "#adata = sc.read_10x_mtx(\n",
    "    #f_mtx_dir ,                 # the directory with the `.mtx` file\n",
    "    #var_names='gene_symbols',   # use gene symbols for the variable names (variables-axis index)\n",
    "    #cache=False) \n",
    "\n",
    "\n",
    "#f_loom_path_unfilt = \"Neftel_105A_unfiltered.loom\" "
   ]
  },
  {
   "cell_type": "code",
   "execution_count": 5,
   "id": "d2b198a8",
   "metadata": {},
   "outputs": [],
   "source": [
    "#only this cell needs to be modified and then the cell below needs to be run\n",
    "h5ad_dir = '/home/joke_d/Documents/singlecellGBM_outputs/scRNAseq_preprocessing/smartseq/SCENIC_inputs/Neftel_integrated_normalized_smartseqMGH129CD45neg.h5ad'\n",
    "\n",
    "adata = sc.read_h5ad(h5ad_dir)\n",
    "\n",
    "\n",
    "f_loom_path_unfilt = \"/home/joke_d/Documents/singlecellGBM_outputs/scRNAseq_preprocessing/smartseq/SCENIC_inputs/Neftel_integrated_normalized_smartseq_129.loom\" "
   ]
  },
  {
   "cell_type": "code",
   "execution_count": 6,
   "id": "bdacd5ad",
   "metadata": {},
   "outputs": [],
   "source": [
    "row_attrs = { \n",
    "    \"Gene\": np.array(adata.var.index) ,\n",
    "}\n",
    "col_attrs = { \n",
    "    \"CellID\":  np.array(adata.obs.index) ,\n",
    "    \"nGene\": np.array( np.sum(adata.X.transpose()>0 , axis=0)).flatten() ,\n",
    "    \"nUMI\": np.array( np.sum(adata.X.transpose() , axis=0)).flatten() ,\n",
    "}\n",
    "\n",
    "lp.create( f_loom_path_unfilt, adata.X.transpose(), row_attrs, col_attrs )\n",
    "\n",
    "#anndata.write_loom(filename, write_obsm_varm=False)"
   ]
  },
  {
   "cell_type": "code",
   "execution_count": 4,
   "id": "a81d29f6",
   "metadata": {},
   "outputs": [
    {
     "data": {
      "text/plain": [
       "AnnData object with n_obs × n_vars = 162 × 8648\n",
       "    obs: 'orig.ident', 'nCount_RNA', 'nFeature_RNA'\n",
       "    var: 'features'"
      ]
     },
     "execution_count": 4,
     "metadata": {},
     "output_type": "execute_result"
    }
   ],
   "source": [
    "adata"
   ]
  },
  {
   "cell_type": "code",
   "execution_count": null,
   "id": "184898b1",
   "metadata": {},
   "outputs": [],
   "source": []
  }
 ],
 "metadata": {
  "kernelspec": {
   "display_name": "Python 3",
   "language": "python",
   "name": "python3"
  },
  "language_info": {
   "codemirror_mode": {
    "name": "ipython",
    "version": 3
   },
   "file_extension": ".py",
   "mimetype": "text/x-python",
   "name": "python",
   "nbconvert_exporter": "python",
   "pygments_lexer": "ipython3",
   "version": "3.8.8"
  }
 },
 "nbformat": 4,
 "nbformat_minor": 5
}
