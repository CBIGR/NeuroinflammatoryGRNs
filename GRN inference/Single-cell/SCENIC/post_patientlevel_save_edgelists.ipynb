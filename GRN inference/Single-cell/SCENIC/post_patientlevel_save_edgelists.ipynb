{
 "cells": [
  {
   "cell_type": "markdown",
   "metadata": {},
   "source": [
    "## Process SCENIC results"
   ]
  },
  {
   "cell_type": "code",
   "execution_count": null,
   "metadata": {},
   "outputs": [],
   "source": [
    "import scanpy as sc\n",
    "import loompy as lp\n",
    "import scipy as sp\n",
    "import pandas as pd\n",
    "import matplotlib.pyplot as plt\n",
    "import random\n",
    "import numpy as np\n",
    "from math import sqrt, ceil, floor\n",
    "import seaborn as sns\n",
    "import glob\n",
    "import subprocess\n",
    "import os\n",
    "import sys\n",
    "import pickle as pkl\n",
    "import json\n",
    "import zlib\n",
    "import base64\n",
    "from datetime import datetime\n",
    "import warnings\n",
    "\n",
    "# for white background of figures (only for docs rendering)\n",
    "%config InlineBackend.print_figure_kwargs={'facecolor' : \"w\"}\n",
    "%config InlineBackend.figure_format='retina'\n",
    "\n",
    "#hpc figures\n",
    "%matplotlib inline\n",
    "\n",
    "from IPython.core.interactiveshell import InteractiveShell\n",
    "InteractiveShell.ast_node_interactivity = \"all\" # print multiple outputs per code cell (not just last)\n",
    "seed = 250\n",
    "def set_seed(seed=int): # Set seed\n",
    "    random.seed(seed)\n",
    "    np.random.seed(seed)\n",
    "    os.environ[\"PYTHONHASHSEED\"] = str(seed)\n",
    "    print('Seed set to', seed)\n",
    "\n",
    "set_seed(seed)"
   ]
  },
  {
   "cell_type": "code",
   "execution_count": 93,
   "metadata": {},
   "outputs": [],
   "source": [
    "os.mkdir(\"/scratch/gent/vo/000/gvo00027/projects/CBIGR/21HPP_GRN_neuroinfl/singlecell/SCENIC_rebuttal_VZZ/Sample_Edges\")"
   ]
  },
  {
   "cell_type": "markdown",
   "metadata": {},
   "source": [
    "### MDD"
   ]
  },
  {
   "cell_type": "code",
   "execution_count": null,
   "metadata": {},
   "outputs": [],
   "source": [
    "for loom_path in glob.glob(\"/scratch/gent/vo/000/gvo00027/projects/CBIGR/21HPP_GRN_neuroinfl/singlecell/SCENIC_rebuttal_VZZ/MDD_*\") :\n",
    "    sample = loom_path.split(\"/\")[-1]\n",
    "    \n",
    "    if sample.startswith(\"MDD_female_\") or sample.startswith(\"MDD_M\"): \n",
    "        continue\n",
    "    print(\"Processing sample\", sample)\n",
    "\n",
    "    # Open connection to loom\n",
    "    lf = lp.connect( f\"{loom_path}/scenic/{sample}/SCENIC_output_{sample}.loom\", mode='r', validate=False)\n",
    "\n",
    "    # Create edge list from incidence matrix\n",
    "    incmat = pd.DataFrame(lf.ra.MotifRegulons,index=lf.ra.Gene).T\n",
    "    edge_list = incmat.stack().reset_index()\n",
    "\n",
    "    # Filtering edges where the value is 1\n",
    "    edge_list = edge_list[edge_list[0] == 1].drop(columns=[0])\n",
    "\n",
    "    # Renaming columns\n",
    "    edge_list.columns = [\"TF\", \"target\"]\n",
    "\n",
    "    # Renaming TFs to allow merging with weights\n",
    "    new_tfnames = [i.split(\"_\")[0] for i in edge_list.TF.values]\n",
    "    edge_list[\"TF\"] = new_tfnames\n",
    "\n",
    "    # Load weight list\n",
    "    weights = pd.read_csv(f\"{loom_path}/scenic/{sample}/arboreto_with_multiprocessing/{sample}__adj.tsv\", sep=\"\\t\")\n",
    "\n",
    "    # Normalize importance scores by calculating 1/rank\n",
    "    weights[\"rank_inverse\"] = 1 / np.abs( np.argsort( weights.importance.values ) - len( weights.importance.values ) )\n",
    "\n",
    "    # Merge\n",
    "    edge_list = edge_list.merge(weights, on=[\"TF\", \"target\"], how=\"left\")\n",
    "\n",
    "    # Sort by normalized importance\n",
    "    edge_list.sort_values(\"rank_inverse\", ascending=False, inplace=True)\n",
    "\n",
    "    # Remove self-edges and save\n",
    "    edge_list.loc[ ~ edge_list[\"importance\"].isna() ].to_csv(f\"/scratch/gent/vo/000/gvo00027/projects/CBIGR/21HPP_GRN_neuroinfl/singlecell/SCENIC_rebuttal_VZZ/Sample_Edges/{sample}_finaledges.csv\")"
   ]
  },
  {
   "cell_type": "markdown",
   "metadata": {},
   "source": [
    "### AD"
   ]
  },
  {
   "cell_type": "code",
   "execution_count": null,
   "metadata": {},
   "outputs": [],
   "source": [
    "for loom_path in glob.glob(\"/scratch/gent/vo/000/gvo00027/projects/CBIGR/21HPP_GRN_neuroinfl/singlecell/SCENIC_rebuttal_VZZ/AD_*\") :\n",
    "    sample = loom_path.split(\"/\")[-1]\n",
    "    \n",
    "    print(\"Processing sample\", sample)\n",
    "\n",
    "    # Open connection to loom\n",
    "    lf = lp.connect( f\"{loom_path}/scenic/{sample}/SCENIC_output_{sample}.loom\", mode='r', validate=False)\n",
    "\n",
    "    # Create edge list from incidence matrix\n",
    "    incmat = pd.DataFrame(lf.ra.MotifRegulons,index=lf.ra.Gene).T\n",
    "    edge_list = incmat.stack().reset_index()\n",
    "\n",
    "    # Filtering edges where the value is 1\n",
    "    edge_list = edge_list[edge_list[0] == 1].drop(columns=[0])\n",
    "\n",
    "    # Renaming columns\n",
    "    edge_list.columns = [\"TF\", \"target\"]\n",
    "\n",
    "    # Renaming TFs to allow merging with weights\n",
    "    new_tfnames = [i.split(\"_\")[0] for i in edge_list.TF.values]\n",
    "    edge_list[\"TF\"] = new_tfnames\n",
    "\n",
    "    # Load weight list\n",
    "    weights = pd.read_csv(f\"{loom_path}/scenic/{sample}/arboreto_with_multiprocessing/{sample}__adj.tsv\", sep=\"\\t\")\n",
    "\n",
    "    # Normalize importance scores by calculating 1/rank\n",
    "    weights[\"rank_inverse\"] = 1 / np.abs( np.argsort( weights.importance.values ) - len( weights.importance.values ) )\n",
    "\n",
    "    # Merge\n",
    "    edge_list = edge_list.merge(weights, on=[\"TF\", \"target\"], how=\"left\")\n",
    "\n",
    "    # Sort by normalized importance\n",
    "    edge_list.sort_values(\"rank_inverse\", ascending=False, inplace=True)\n",
    "\n",
    "    # Remove self-edges and save\n",
    "    edge_list.loc[ ~ edge_list[\"importance\"].isna() ].to_csv(f\"/scratch/gent/vo/000/gvo00027/projects/CBIGR/21HPP_GRN_neuroinfl/singlecell/SCENIC_rebuttal_VZZ/Sample_Edges/{sample}_finaledges.csv\")"
   ]
  }
 ],
 "metadata": {
  "kernelspec": {
   "display_name": "Python 3",
   "language": "python",
   "name": "python3"
  },
  "language_info": {
   "codemirror_mode": {
    "name": "ipython",
    "version": 3
   },
   "file_extension": ".py",
   "mimetype": "text/x-python",
   "name": "python",
   "nbconvert_exporter": "python",
   "pygments_lexer": "ipython3",
   "version": "3.11.3"
  }
 },
 "nbformat": 4,
 "nbformat_minor": 2
}
